{
 "cells": [
  {
   "cell_type": "markdown",
   "metadata": {},
   "source": [
    "# Venture Funding with Deep Learning\n",
    "\n",
    "You work as a risk management associate at Alphabet Soup, a venture capital firm. Alphabet Soup’s business team receives many funding applications from startups every day. This team has asked you to help them create a model that predicts whether applicants will be successful if funded by Alphabet Soup.\n",
    "\n",
    "The business team has given you a CSV containing more than 34,000 organizations that have received funding from Alphabet Soup over the years. With your knowledge of machine learning and neural networks, you decide to use the features in the provided dataset to create a binary classifier model that will predict whether an applicant will become a successful business. The CSV file contains a variety of information about these businesses, including whether or not they ultimately became successful.\n",
    "\n",
    "## Instructions:\n",
    "\n",
    "The steps for this challenge are broken out into the following sections:\n",
    "\n",
    "* Prepare the data for use on a neural network model.\n",
    "\n",
    "* Compile and evaluate a binary classification model using a neural network.\n",
    "\n",
    "* Optimize the neural network model.\n",
    "\n",
    "### Prepare the Data for Use on a Neural Network Model \n",
    "\n",
    "Using your knowledge of Pandas and scikit-learn’s `StandardScaler()`, preprocess the dataset so that you can use it to compile and evaluate the neural network model later.\n",
    "\n",
    "Open the starter code file, and complete the following data preparation steps:\n",
    "\n",
    "1. Read the `applicants_data.csv` file into a Pandas DataFrame. Review the DataFrame, looking for categorical variables that will need to be encoded, as well as columns that could eventually define your features and target variables.   \n",
    "\n",
    "2. Drop the “EIN” (Employer Identification Number) and “NAME” columns from the DataFrame, because they are not relevant to the binary classification model.\n",
    " \n",
    "3. Encode the dataset’s categorical variables using `OneHotEncoder`, and then place the encoded variables into a new DataFrame.\n",
    "\n",
    "4. Add the original DataFrame’s numerical variables to the DataFrame containing the encoded variables.\n",
    "\n",
    "> **Note** To complete this step, you will employ the Pandas `concat()` function that was introduced earlier in this course. \n",
    "\n",
    "5. Using the preprocessed data, create the features (`X`) and target (`y`) datasets. The target dataset should be defined by the preprocessed DataFrame column “IS_SUCCESSFUL”. The remaining columns should define the features dataset. \n",
    "\n",
    "6. Split the features and target sets into training and testing datasets.\n",
    "\n",
    "7. Use scikit-learn's `StandardScaler` to scale the features data.\n",
    "\n",
    "### Compile and Evaluate a Binary Classification Model Using a Neural Network\n",
    "\n",
    "Use your knowledge of TensorFlow to design a binary classification deep neural network model. This model should use the dataset’s features to predict whether an Alphabet Soup&ndash;funded startup will be successful based on the features in the dataset. Consider the number of inputs before determining the number of layers that your model will contain or the number of neurons on each layer. Then, compile and fit your model. Finally, evaluate your binary classification model to calculate the model’s loss and accuracy. \n",
    " \n",
    "To do so, complete the following steps:\n",
    "\n",
    "1. Create a deep neural network by assigning the number of input features, the number of layers, and the number of neurons on each layer using Tensorflow’s Keras.\n",
    "\n",
    "> **Hint** You can start with a two-layer deep neural network model that uses the `relu` activation function for both layers.\n",
    "\n",
    "2. Compile and fit the model using the `binary_crossentropy` loss function, the `adam` optimizer, and the `accuracy` evaluation metric.\n",
    "\n",
    "> **Hint** When fitting the model, start with a small number of epochs, such as 20, 50, or 100.\n",
    "\n",
    "3. Evaluate the model using the test data to determine the model’s loss and accuracy.\n",
    "\n",
    "4. Save and export your model to an HDF5 file, and name the file `AlphabetSoup.h5`. \n",
    "\n",
    "### Optimize the Neural Network Model\n",
    "\n",
    "Using your knowledge of TensorFlow and Keras, optimize your model to improve the model's accuracy. Even if you do not successfully achieve a better accuracy, you'll need to demonstrate at least two attempts to optimize the model. You can include these attempts in your existing notebook. Or, you can make copies of the starter notebook in the same folder, rename them, and code each model optimization in a new notebook. \n",
    "\n",
    "> **Note** You will not lose points if your model does not achieve a high accuracy, as long as you make at least two attempts to optimize the model.\n",
    "\n",
    "To do so, complete the following steps:\n",
    "\n",
    "1. Define at least three new deep neural network models (the original plus 2 optimization attempts). With each, try to improve on your first model’s predictive accuracy.\n",
    "\n",
    "> **Rewind** Recall that perfect accuracy has a value of 1, so accuracy improves as its value moves closer to 1. To optimize your model for a predictive accuracy as close to 1 as possible, you can use any or all of the following techniques:\n",
    ">\n",
    "> * Adjust the input data by dropping different features columns to ensure that no variables or outliers confuse the model.\n",
    ">\n",
    "> * Add more neurons (nodes) to a hidden layer.\n",
    ">\n",
    "> * Add more hidden layers.\n",
    ">\n",
    "> * Use different activation functions for the hidden layers.\n",
    ">\n",
    "> * Add to or reduce the number of epochs in the training regimen.\n",
    "\n",
    "2. After finishing your models, display the accuracy scores achieved by each model, and compare the results.\n",
    "\n",
    "3. Save each of your models as an HDF5 file.\n"
   ]
  },
  {
   "cell_type": "code",
   "execution_count": 1,
   "metadata": {},
   "outputs": [
    {
     "name": "stderr",
     "output_type": "stream",
     "text": [
      "2023-07-03 01:45:34.424538: I tensorflow/core/platform/cpu_feature_guard.cc:182] This TensorFlow binary is optimized to use available CPU instructions in performance-critical operations.\n",
      "To enable the following instructions: AVX2 FMA, in other operations, rebuild TensorFlow with the appropriate compiler flags.\n"
     ]
    }
   ],
   "source": [
    "# Imports\n",
    "import pandas as pd\n",
    "from pathlib import Path\n",
    "import tensorflow as tf\n",
    "from tensorflow.keras.layers import Dense\n",
    "from tensorflow.keras.models import Sequential\n",
    "from sklearn.model_selection import train_test_split\n",
    "from sklearn.preprocessing import StandardScaler,OneHotEncoder\n",
    "from keras.layers import Dropout\n",
    "from keras.regularizers import l2"
   ]
  },
  {
   "cell_type": "code",
   "execution_count": null,
   "metadata": {},
   "outputs": [],
   "source": []
  },
  {
   "cell_type": "code",
   "execution_count": null,
   "metadata": {},
   "outputs": [],
   "source": []
  },
  {
   "cell_type": "code",
   "execution_count": null,
   "metadata": {},
   "outputs": [],
   "source": []
  },
  {
   "cell_type": "markdown",
   "metadata": {},
   "source": [
    "---\n",
    "\n",
    "## Prepare the data to be used on a neural network model"
   ]
  },
  {
   "cell_type": "markdown",
   "metadata": {},
   "source": [
    "### Step 1: Read the `applicants_data.csv` file into a Pandas DataFrame. Review the DataFrame, looking for categorical variables that will need to be encoded, as well as columns that could eventually define your features and target variables.  \n"
   ]
  },
  {
   "cell_type": "code",
   "execution_count": 2,
   "metadata": {},
   "outputs": [
    {
     "data": {
      "text/html": [
       "<div>\n",
       "<style scoped>\n",
       "    .dataframe tbody tr th:only-of-type {\n",
       "        vertical-align: middle;\n",
       "    }\n",
       "\n",
       "    .dataframe tbody tr th {\n",
       "        vertical-align: top;\n",
       "    }\n",
       "\n",
       "    .dataframe thead th {\n",
       "        text-align: right;\n",
       "    }\n",
       "</style>\n",
       "<table border=\"1\" class=\"dataframe\">\n",
       "  <thead>\n",
       "    <tr style=\"text-align: right;\">\n",
       "      <th></th>\n",
       "      <th>EIN</th>\n",
       "      <th>NAME</th>\n",
       "      <th>APPLICATION_TYPE</th>\n",
       "      <th>AFFILIATION</th>\n",
       "      <th>CLASSIFICATION</th>\n",
       "      <th>USE_CASE</th>\n",
       "      <th>ORGANIZATION</th>\n",
       "      <th>STATUS</th>\n",
       "      <th>INCOME_AMT</th>\n",
       "      <th>SPECIAL_CONSIDERATIONS</th>\n",
       "      <th>ASK_AMT</th>\n",
       "      <th>IS_SUCCESSFUL</th>\n",
       "    </tr>\n",
       "  </thead>\n",
       "  <tbody>\n",
       "    <tr>\n",
       "      <th>0</th>\n",
       "      <td>10520599</td>\n",
       "      <td>BLUE KNIGHTS MOTORCYCLE CLUB</td>\n",
       "      <td>T10</td>\n",
       "      <td>Independent</td>\n",
       "      <td>C1000</td>\n",
       "      <td>ProductDev</td>\n",
       "      <td>Association</td>\n",
       "      <td>1</td>\n",
       "      <td>0</td>\n",
       "      <td>N</td>\n",
       "      <td>5000</td>\n",
       "      <td>1</td>\n",
       "    </tr>\n",
       "    <tr>\n",
       "      <th>1</th>\n",
       "      <td>10531628</td>\n",
       "      <td>AMERICAN CHESAPEAKE CLUB CHARITABLE TR</td>\n",
       "      <td>T3</td>\n",
       "      <td>Independent</td>\n",
       "      <td>C2000</td>\n",
       "      <td>Preservation</td>\n",
       "      <td>Co-operative</td>\n",
       "      <td>1</td>\n",
       "      <td>1-9999</td>\n",
       "      <td>N</td>\n",
       "      <td>108590</td>\n",
       "      <td>1</td>\n",
       "    </tr>\n",
       "    <tr>\n",
       "      <th>2</th>\n",
       "      <td>10547893</td>\n",
       "      <td>ST CLOUD PROFESSIONAL FIREFIGHTERS</td>\n",
       "      <td>T5</td>\n",
       "      <td>CompanySponsored</td>\n",
       "      <td>C3000</td>\n",
       "      <td>ProductDev</td>\n",
       "      <td>Association</td>\n",
       "      <td>1</td>\n",
       "      <td>0</td>\n",
       "      <td>N</td>\n",
       "      <td>5000</td>\n",
       "      <td>0</td>\n",
       "    </tr>\n",
       "    <tr>\n",
       "      <th>3</th>\n",
       "      <td>10553066</td>\n",
       "      <td>SOUTHSIDE ATHLETIC ASSOCIATION</td>\n",
       "      <td>T3</td>\n",
       "      <td>CompanySponsored</td>\n",
       "      <td>C2000</td>\n",
       "      <td>Preservation</td>\n",
       "      <td>Trust</td>\n",
       "      <td>1</td>\n",
       "      <td>10000-24999</td>\n",
       "      <td>N</td>\n",
       "      <td>6692</td>\n",
       "      <td>1</td>\n",
       "    </tr>\n",
       "    <tr>\n",
       "      <th>4</th>\n",
       "      <td>10556103</td>\n",
       "      <td>GENETIC RESEARCH INSTITUTE OF THE DESERT</td>\n",
       "      <td>T3</td>\n",
       "      <td>Independent</td>\n",
       "      <td>C1000</td>\n",
       "      <td>Heathcare</td>\n",
       "      <td>Trust</td>\n",
       "      <td>1</td>\n",
       "      <td>100000-499999</td>\n",
       "      <td>N</td>\n",
       "      <td>142590</td>\n",
       "      <td>1</td>\n",
       "    </tr>\n",
       "  </tbody>\n",
       "</table>\n",
       "</div>"
      ],
      "text/plain": [
       "        EIN                                      NAME APPLICATION_TYPE   \n",
       "0  10520599              BLUE KNIGHTS MOTORCYCLE CLUB              T10  \\\n",
       "1  10531628    AMERICAN CHESAPEAKE CLUB CHARITABLE TR               T3   \n",
       "2  10547893        ST CLOUD PROFESSIONAL FIREFIGHTERS               T5   \n",
       "3  10553066            SOUTHSIDE ATHLETIC ASSOCIATION               T3   \n",
       "4  10556103  GENETIC RESEARCH INSTITUTE OF THE DESERT               T3   \n",
       "\n",
       "        AFFILIATION CLASSIFICATION      USE_CASE  ORGANIZATION  STATUS   \n",
       "0       Independent          C1000    ProductDev   Association       1  \\\n",
       "1       Independent          C2000  Preservation  Co-operative       1   \n",
       "2  CompanySponsored          C3000    ProductDev   Association       1   \n",
       "3  CompanySponsored          C2000  Preservation         Trust       1   \n",
       "4       Independent          C1000     Heathcare         Trust       1   \n",
       "\n",
       "      INCOME_AMT SPECIAL_CONSIDERATIONS  ASK_AMT  IS_SUCCESSFUL  \n",
       "0              0                      N     5000              1  \n",
       "1         1-9999                      N   108590              1  \n",
       "2              0                      N     5000              0  \n",
       "3    10000-24999                      N     6692              1  \n",
       "4  100000-499999                      N   142590              1  "
      ]
     },
     "execution_count": 2,
     "metadata": {},
     "output_type": "execute_result"
    }
   ],
   "source": [
    "# Read the applicants_data.csv file from the Resources folder into a Pandas DataFrame\n",
    "applicant_data_df = pd.read_csv(Path(\"Resources/applicants_data.csv\"))\n",
    "\n",
    "# Review the DataFrame\n",
    "applicant_data_df.head()"
   ]
  },
  {
   "cell_type": "code",
   "execution_count": null,
   "metadata": {},
   "outputs": [],
   "source": []
  },
  {
   "cell_type": "code",
   "execution_count": null,
   "metadata": {},
   "outputs": [],
   "source": []
  },
  {
   "cell_type": "code",
   "execution_count": null,
   "metadata": {},
   "outputs": [],
   "source": []
  },
  {
   "cell_type": "code",
   "execution_count": null,
   "metadata": {},
   "outputs": [],
   "source": []
  },
  {
   "cell_type": "code",
   "execution_count": 3,
   "metadata": {},
   "outputs": [
    {
     "name": "stdout",
     "output_type": "stream",
     "text": [
      "<class 'pandas.core.frame.DataFrame'>\n",
      "RangeIndex: 34299 entries, 0 to 34298\n",
      "Data columns (total 12 columns):\n",
      " #   Column                  Non-Null Count  Dtype \n",
      "---  ------                  --------------  ----- \n",
      " 0   EIN                     34299 non-null  int64 \n",
      " 1   NAME                    34299 non-null  object\n",
      " 2   APPLICATION_TYPE        34299 non-null  object\n",
      " 3   AFFILIATION             34299 non-null  object\n",
      " 4   CLASSIFICATION          34299 non-null  object\n",
      " 5   USE_CASE                34299 non-null  object\n",
      " 6   ORGANIZATION            34299 non-null  object\n",
      " 7   STATUS                  34299 non-null  int64 \n",
      " 8   INCOME_AMT              34299 non-null  object\n",
      " 9   SPECIAL_CONSIDERATIONS  34299 non-null  object\n",
      " 10  ASK_AMT                 34299 non-null  int64 \n",
      " 11  IS_SUCCESSFUL           34299 non-null  int64 \n",
      "dtypes: int64(4), object(8)\n",
      "memory usage: 3.1+ MB\n"
     ]
    }
   ],
   "source": [
    "# Review the data types associated with the columns\n",
    "applicant_data_df.info()"
   ]
  },
  {
   "cell_type": "code",
   "execution_count": null,
   "metadata": {},
   "outputs": [],
   "source": []
  },
  {
   "cell_type": "markdown",
   "metadata": {},
   "source": [
    "### Step 2: Drop the “EIN” (Employer Identification Number) and “NAME” columns from the DataFrame, because they are not relevant to the binary classification model."
   ]
  },
  {
   "cell_type": "code",
   "execution_count": 4,
   "metadata": {},
   "outputs": [
    {
     "data": {
      "text/html": [
       "<div>\n",
       "<style scoped>\n",
       "    .dataframe tbody tr th:only-of-type {\n",
       "        vertical-align: middle;\n",
       "    }\n",
       "\n",
       "    .dataframe tbody tr th {\n",
       "        vertical-align: top;\n",
       "    }\n",
       "\n",
       "    .dataframe thead th {\n",
       "        text-align: right;\n",
       "    }\n",
       "</style>\n",
       "<table border=\"1\" class=\"dataframe\">\n",
       "  <thead>\n",
       "    <tr style=\"text-align: right;\">\n",
       "      <th></th>\n",
       "      <th>APPLICATION_TYPE</th>\n",
       "      <th>AFFILIATION</th>\n",
       "      <th>CLASSIFICATION</th>\n",
       "      <th>USE_CASE</th>\n",
       "      <th>ORGANIZATION</th>\n",
       "      <th>STATUS</th>\n",
       "      <th>INCOME_AMT</th>\n",
       "      <th>SPECIAL_CONSIDERATIONS</th>\n",
       "      <th>ASK_AMT</th>\n",
       "      <th>IS_SUCCESSFUL</th>\n",
       "    </tr>\n",
       "  </thead>\n",
       "  <tbody>\n",
       "    <tr>\n",
       "      <th>0</th>\n",
       "      <td>T10</td>\n",
       "      <td>Independent</td>\n",
       "      <td>C1000</td>\n",
       "      <td>ProductDev</td>\n",
       "      <td>Association</td>\n",
       "      <td>1</td>\n",
       "      <td>0</td>\n",
       "      <td>N</td>\n",
       "      <td>5000</td>\n",
       "      <td>1</td>\n",
       "    </tr>\n",
       "    <tr>\n",
       "      <th>1</th>\n",
       "      <td>T3</td>\n",
       "      <td>Independent</td>\n",
       "      <td>C2000</td>\n",
       "      <td>Preservation</td>\n",
       "      <td>Co-operative</td>\n",
       "      <td>1</td>\n",
       "      <td>1-9999</td>\n",
       "      <td>N</td>\n",
       "      <td>108590</td>\n",
       "      <td>1</td>\n",
       "    </tr>\n",
       "    <tr>\n",
       "      <th>2</th>\n",
       "      <td>T5</td>\n",
       "      <td>CompanySponsored</td>\n",
       "      <td>C3000</td>\n",
       "      <td>ProductDev</td>\n",
       "      <td>Association</td>\n",
       "      <td>1</td>\n",
       "      <td>0</td>\n",
       "      <td>N</td>\n",
       "      <td>5000</td>\n",
       "      <td>0</td>\n",
       "    </tr>\n",
       "    <tr>\n",
       "      <th>3</th>\n",
       "      <td>T3</td>\n",
       "      <td>CompanySponsored</td>\n",
       "      <td>C2000</td>\n",
       "      <td>Preservation</td>\n",
       "      <td>Trust</td>\n",
       "      <td>1</td>\n",
       "      <td>10000-24999</td>\n",
       "      <td>N</td>\n",
       "      <td>6692</td>\n",
       "      <td>1</td>\n",
       "    </tr>\n",
       "    <tr>\n",
       "      <th>4</th>\n",
       "      <td>T3</td>\n",
       "      <td>Independent</td>\n",
       "      <td>C1000</td>\n",
       "      <td>Heathcare</td>\n",
       "      <td>Trust</td>\n",
       "      <td>1</td>\n",
       "      <td>100000-499999</td>\n",
       "      <td>N</td>\n",
       "      <td>142590</td>\n",
       "      <td>1</td>\n",
       "    </tr>\n",
       "  </tbody>\n",
       "</table>\n",
       "</div>"
      ],
      "text/plain": [
       "  APPLICATION_TYPE       AFFILIATION CLASSIFICATION      USE_CASE   \n",
       "0              T10       Independent          C1000    ProductDev  \\\n",
       "1               T3       Independent          C2000  Preservation   \n",
       "2               T5  CompanySponsored          C3000    ProductDev   \n",
       "3               T3  CompanySponsored          C2000  Preservation   \n",
       "4               T3       Independent          C1000     Heathcare   \n",
       "\n",
       "   ORGANIZATION  STATUS     INCOME_AMT SPECIAL_CONSIDERATIONS  ASK_AMT   \n",
       "0   Association       1              0                      N     5000  \\\n",
       "1  Co-operative       1         1-9999                      N   108590   \n",
       "2   Association       1              0                      N     5000   \n",
       "3         Trust       1    10000-24999                      N     6692   \n",
       "4         Trust       1  100000-499999                      N   142590   \n",
       "\n",
       "   IS_SUCCESSFUL  \n",
       "0              1  \n",
       "1              1  \n",
       "2              0  \n",
       "3              1  \n",
       "4              1  "
      ]
     },
     "execution_count": 4,
     "metadata": {},
     "output_type": "execute_result"
    }
   ],
   "source": [
    "# Drop the 'EIN' and 'NAME' columns from the DataFrame\n",
    "applicant_data_df = applicant_data_df.drop([\"EIN\",\"NAME\"], axis=1)\n",
    "\n",
    "# Review the DataFrame\n",
    "applicant_data_df.head()"
   ]
  },
  {
   "cell_type": "code",
   "execution_count": null,
   "metadata": {},
   "outputs": [],
   "source": []
  },
  {
   "cell_type": "code",
   "execution_count": null,
   "metadata": {},
   "outputs": [],
   "source": []
  },
  {
   "cell_type": "code",
   "execution_count": 5,
   "metadata": {},
   "outputs": [
    {
     "data": {
      "text/plain": [
       "['APPLICATION_TYPE',\n",
       " 'AFFILIATION',\n",
       " 'CLASSIFICATION',\n",
       " 'USE_CASE',\n",
       " 'ORGANIZATION',\n",
       " 'INCOME_AMT',\n",
       " 'SPECIAL_CONSIDERATIONS']"
      ]
     },
     "execution_count": 5,
     "metadata": {},
     "output_type": "execute_result"
    }
   ],
   "source": [
    "list(applicant_data_df.dtypes[applicant_data_df.dtypes == \"object\"].index)"
   ]
  },
  {
   "cell_type": "markdown",
   "metadata": {},
   "source": [
    "### Step 3: Encode the dataset’s categorical variables using `OneHotEncoder`, and then place the encoded variables into a new DataFrame."
   ]
  },
  {
   "cell_type": "code",
   "execution_count": 6,
   "metadata": {},
   "outputs": [
    {
     "data": {
      "text/plain": [
       "['APPLICATION_TYPE',\n",
       " 'AFFILIATION',\n",
       " 'CLASSIFICATION',\n",
       " 'USE_CASE',\n",
       " 'ORGANIZATION',\n",
       " 'INCOME_AMT',\n",
       " 'SPECIAL_CONSIDERATIONS']"
      ]
     },
     "execution_count": 6,
     "metadata": {},
     "output_type": "execute_result"
    }
   ],
   "source": [
    "# Create a list of categorical variables \n",
    "categorical_variables = [\"APPLICATION_TYPE\", \"AFFILIATION\", \"CLASSIFICATION\", \"USE_CASE\", \"ORGANIZATION\", \"INCOME_AMT\", \"SPECIAL_CONSIDERATIONS\"]\n",
    "\n",
    "# Display the categorical variables list\n",
    "categorical_variables"
   ]
  },
  {
   "cell_type": "code",
   "execution_count": null,
   "metadata": {},
   "outputs": [],
   "source": []
  },
  {
   "cell_type": "code",
   "execution_count": 7,
   "metadata": {},
   "outputs": [],
   "source": [
    "# Create a OneHotEncoder instance\n",
    "one_encod = OneHotEncoder(sparse=False)"
   ]
  },
  {
   "cell_type": "code",
   "execution_count": null,
   "metadata": {},
   "outputs": [],
   "source": []
  },
  {
   "cell_type": "code",
   "execution_count": 8,
   "metadata": {},
   "outputs": [
    {
     "name": "stderr",
     "output_type": "stream",
     "text": [
      "/Users/mac/anaconda3/envs/tf/lib/python3.9/site-packages/sklearn/preprocessing/_encoders.py:868: FutureWarning: `sparse` was renamed to `sparse_output` in version 1.2 and will be removed in 1.4. `sparse_output` is ignored unless you leave `sparse` to its default value.\n",
      "  warnings.warn(\n"
     ]
    }
   ],
   "source": [
    "# Encode the categorcal variables using OneHotEncoder\n",
    "encoded_data = one_encod.fit_transform(applicant_data_df[categorical_variables])"
   ]
  },
  {
   "cell_type": "code",
   "execution_count": null,
   "metadata": {},
   "outputs": [],
   "source": []
  },
  {
   "cell_type": "code",
   "execution_count": 9,
   "metadata": {},
   "outputs": [
    {
     "data": {
      "text/html": [
       "<div>\n",
       "<style scoped>\n",
       "    .dataframe tbody tr th:only-of-type {\n",
       "        vertical-align: middle;\n",
       "    }\n",
       "\n",
       "    .dataframe tbody tr th {\n",
       "        vertical-align: top;\n",
       "    }\n",
       "\n",
       "    .dataframe thead th {\n",
       "        text-align: right;\n",
       "    }\n",
       "</style>\n",
       "<table border=\"1\" class=\"dataframe\">\n",
       "  <thead>\n",
       "    <tr style=\"text-align: right;\">\n",
       "      <th></th>\n",
       "      <th>APPLICATION_TYPE_T10</th>\n",
       "      <th>APPLICATION_TYPE_T12</th>\n",
       "      <th>APPLICATION_TYPE_T13</th>\n",
       "      <th>APPLICATION_TYPE_T14</th>\n",
       "      <th>APPLICATION_TYPE_T15</th>\n",
       "      <th>APPLICATION_TYPE_T17</th>\n",
       "      <th>APPLICATION_TYPE_T19</th>\n",
       "      <th>APPLICATION_TYPE_T2</th>\n",
       "      <th>APPLICATION_TYPE_T25</th>\n",
       "      <th>APPLICATION_TYPE_T29</th>\n",
       "      <th>...</th>\n",
       "      <th>INCOME_AMT_1-9999</th>\n",
       "      <th>INCOME_AMT_10000-24999</th>\n",
       "      <th>INCOME_AMT_100000-499999</th>\n",
       "      <th>INCOME_AMT_10M-50M</th>\n",
       "      <th>INCOME_AMT_1M-5M</th>\n",
       "      <th>INCOME_AMT_25000-99999</th>\n",
       "      <th>INCOME_AMT_50M+</th>\n",
       "      <th>INCOME_AMT_5M-10M</th>\n",
       "      <th>SPECIAL_CONSIDERATIONS_N</th>\n",
       "      <th>SPECIAL_CONSIDERATIONS_Y</th>\n",
       "    </tr>\n",
       "  </thead>\n",
       "  <tbody>\n",
       "    <tr>\n",
       "      <th>0</th>\n",
       "      <td>1.0</td>\n",
       "      <td>0.0</td>\n",
       "      <td>0.0</td>\n",
       "      <td>0.0</td>\n",
       "      <td>0.0</td>\n",
       "      <td>0.0</td>\n",
       "      <td>0.0</td>\n",
       "      <td>0.0</td>\n",
       "      <td>0.0</td>\n",
       "      <td>0.0</td>\n",
       "      <td>...</td>\n",
       "      <td>0.0</td>\n",
       "      <td>0.0</td>\n",
       "      <td>0.0</td>\n",
       "      <td>0.0</td>\n",
       "      <td>0.0</td>\n",
       "      <td>0.0</td>\n",
       "      <td>0.0</td>\n",
       "      <td>0.0</td>\n",
       "      <td>1.0</td>\n",
       "      <td>0.0</td>\n",
       "    </tr>\n",
       "    <tr>\n",
       "      <th>1</th>\n",
       "      <td>0.0</td>\n",
       "      <td>0.0</td>\n",
       "      <td>0.0</td>\n",
       "      <td>0.0</td>\n",
       "      <td>0.0</td>\n",
       "      <td>0.0</td>\n",
       "      <td>0.0</td>\n",
       "      <td>0.0</td>\n",
       "      <td>0.0</td>\n",
       "      <td>0.0</td>\n",
       "      <td>...</td>\n",
       "      <td>1.0</td>\n",
       "      <td>0.0</td>\n",
       "      <td>0.0</td>\n",
       "      <td>0.0</td>\n",
       "      <td>0.0</td>\n",
       "      <td>0.0</td>\n",
       "      <td>0.0</td>\n",
       "      <td>0.0</td>\n",
       "      <td>1.0</td>\n",
       "      <td>0.0</td>\n",
       "    </tr>\n",
       "    <tr>\n",
       "      <th>2</th>\n",
       "      <td>0.0</td>\n",
       "      <td>0.0</td>\n",
       "      <td>0.0</td>\n",
       "      <td>0.0</td>\n",
       "      <td>0.0</td>\n",
       "      <td>0.0</td>\n",
       "      <td>0.0</td>\n",
       "      <td>0.0</td>\n",
       "      <td>0.0</td>\n",
       "      <td>0.0</td>\n",
       "      <td>...</td>\n",
       "      <td>0.0</td>\n",
       "      <td>0.0</td>\n",
       "      <td>0.0</td>\n",
       "      <td>0.0</td>\n",
       "      <td>0.0</td>\n",
       "      <td>0.0</td>\n",
       "      <td>0.0</td>\n",
       "      <td>0.0</td>\n",
       "      <td>1.0</td>\n",
       "      <td>0.0</td>\n",
       "    </tr>\n",
       "    <tr>\n",
       "      <th>3</th>\n",
       "      <td>0.0</td>\n",
       "      <td>0.0</td>\n",
       "      <td>0.0</td>\n",
       "      <td>0.0</td>\n",
       "      <td>0.0</td>\n",
       "      <td>0.0</td>\n",
       "      <td>0.0</td>\n",
       "      <td>0.0</td>\n",
       "      <td>0.0</td>\n",
       "      <td>0.0</td>\n",
       "      <td>...</td>\n",
       "      <td>0.0</td>\n",
       "      <td>1.0</td>\n",
       "      <td>0.0</td>\n",
       "      <td>0.0</td>\n",
       "      <td>0.0</td>\n",
       "      <td>0.0</td>\n",
       "      <td>0.0</td>\n",
       "      <td>0.0</td>\n",
       "      <td>1.0</td>\n",
       "      <td>0.0</td>\n",
       "    </tr>\n",
       "    <tr>\n",
       "      <th>4</th>\n",
       "      <td>0.0</td>\n",
       "      <td>0.0</td>\n",
       "      <td>0.0</td>\n",
       "      <td>0.0</td>\n",
       "      <td>0.0</td>\n",
       "      <td>0.0</td>\n",
       "      <td>0.0</td>\n",
       "      <td>0.0</td>\n",
       "      <td>0.0</td>\n",
       "      <td>0.0</td>\n",
       "      <td>...</td>\n",
       "      <td>0.0</td>\n",
       "      <td>0.0</td>\n",
       "      <td>1.0</td>\n",
       "      <td>0.0</td>\n",
       "      <td>0.0</td>\n",
       "      <td>0.0</td>\n",
       "      <td>0.0</td>\n",
       "      <td>0.0</td>\n",
       "      <td>1.0</td>\n",
       "      <td>0.0</td>\n",
       "    </tr>\n",
       "  </tbody>\n",
       "</table>\n",
       "<p>5 rows × 114 columns</p>\n",
       "</div>"
      ],
      "text/plain": [
       "   APPLICATION_TYPE_T10  APPLICATION_TYPE_T12  APPLICATION_TYPE_T13   \n",
       "0                   1.0                   0.0                   0.0  \\\n",
       "1                   0.0                   0.0                   0.0   \n",
       "2                   0.0                   0.0                   0.0   \n",
       "3                   0.0                   0.0                   0.0   \n",
       "4                   0.0                   0.0                   0.0   \n",
       "\n",
       "   APPLICATION_TYPE_T14  APPLICATION_TYPE_T15  APPLICATION_TYPE_T17   \n",
       "0                   0.0                   0.0                   0.0  \\\n",
       "1                   0.0                   0.0                   0.0   \n",
       "2                   0.0                   0.0                   0.0   \n",
       "3                   0.0                   0.0                   0.0   \n",
       "4                   0.0                   0.0                   0.0   \n",
       "\n",
       "   APPLICATION_TYPE_T19  APPLICATION_TYPE_T2  APPLICATION_TYPE_T25   \n",
       "0                   0.0                  0.0                   0.0  \\\n",
       "1                   0.0                  0.0                   0.0   \n",
       "2                   0.0                  0.0                   0.0   \n",
       "3                   0.0                  0.0                   0.0   \n",
       "4                   0.0                  0.0                   0.0   \n",
       "\n",
       "   APPLICATION_TYPE_T29  ...  INCOME_AMT_1-9999  INCOME_AMT_10000-24999   \n",
       "0                   0.0  ...                0.0                     0.0  \\\n",
       "1                   0.0  ...                1.0                     0.0   \n",
       "2                   0.0  ...                0.0                     0.0   \n",
       "3                   0.0  ...                0.0                     1.0   \n",
       "4                   0.0  ...                0.0                     0.0   \n",
       "\n",
       "   INCOME_AMT_100000-499999  INCOME_AMT_10M-50M  INCOME_AMT_1M-5M   \n",
       "0                       0.0                 0.0               0.0  \\\n",
       "1                       0.0                 0.0               0.0   \n",
       "2                       0.0                 0.0               0.0   \n",
       "3                       0.0                 0.0               0.0   \n",
       "4                       1.0                 0.0               0.0   \n",
       "\n",
       "   INCOME_AMT_25000-99999  INCOME_AMT_50M+  INCOME_AMT_5M-10M   \n",
       "0                     0.0              0.0                0.0  \\\n",
       "1                     0.0              0.0                0.0   \n",
       "2                     0.0              0.0                0.0   \n",
       "3                     0.0              0.0                0.0   \n",
       "4                     0.0              0.0                0.0   \n",
       "\n",
       "   SPECIAL_CONSIDERATIONS_N  SPECIAL_CONSIDERATIONS_Y  \n",
       "0                       1.0                       0.0  \n",
       "1                       1.0                       0.0  \n",
       "2                       1.0                       0.0  \n",
       "3                       1.0                       0.0  \n",
       "4                       1.0                       0.0  \n",
       "\n",
       "[5 rows x 114 columns]"
      ]
     },
     "execution_count": 9,
     "metadata": {},
     "output_type": "execute_result"
    }
   ],
   "source": [
    "# Create a DataFrame with the encoded variables\n",
    "encoded_df = pd.DataFrame(\n",
    "    encoded_data,\n",
    "    columns = one_encod.get_feature_names_out(categorical_variables)\n",
    ")\n",
    "\n",
    "# Review the DataFrame\n",
    "encoded_df.head()"
   ]
  },
  {
   "cell_type": "code",
   "execution_count": null,
   "metadata": {},
   "outputs": [],
   "source": []
  },
  {
   "cell_type": "markdown",
   "metadata": {},
   "source": [
    "### Step 4: Add the original DataFrame’s numerical variables to the DataFrame containing the encoded variables.\n",
    "\n",
    "> **Note** To complete this step, you will employ the Pandas `concat()` function that was introduced earlier in this course. "
   ]
  },
  {
   "cell_type": "code",
   "execution_count": 10,
   "metadata": {},
   "outputs": [
    {
     "data": {
      "text/plain": [
       "['STATUS', 'ASK_AMT', 'IS_SUCCESSFUL']"
      ]
     },
     "execution_count": 10,
     "metadata": {},
     "output_type": "execute_result"
    }
   ],
   "source": [
    "list(applicant_data_df.dtypes[applicant_data_df.dtypes == \"int64\"].index)"
   ]
  },
  {
   "cell_type": "code",
   "execution_count": null,
   "metadata": {},
   "outputs": [],
   "source": []
  },
  {
   "cell_type": "code",
   "execution_count": 11,
   "metadata": {},
   "outputs": [
    {
     "data": {
      "text/html": [
       "<div>\n",
       "<style scoped>\n",
       "    .dataframe tbody tr th:only-of-type {\n",
       "        vertical-align: middle;\n",
       "    }\n",
       "\n",
       "    .dataframe tbody tr th {\n",
       "        vertical-align: top;\n",
       "    }\n",
       "\n",
       "    .dataframe thead th {\n",
       "        text-align: right;\n",
       "    }\n",
       "</style>\n",
       "<table border=\"1\" class=\"dataframe\">\n",
       "  <thead>\n",
       "    <tr style=\"text-align: right;\">\n",
       "      <th></th>\n",
       "      <th>STATUS</th>\n",
       "      <th>ASK_AMT</th>\n",
       "      <th>IS_SUCCESSFUL</th>\n",
       "    </tr>\n",
       "  </thead>\n",
       "  <tbody>\n",
       "    <tr>\n",
       "      <th>0</th>\n",
       "      <td>1</td>\n",
       "      <td>5000</td>\n",
       "      <td>1</td>\n",
       "    </tr>\n",
       "    <tr>\n",
       "      <th>1</th>\n",
       "      <td>1</td>\n",
       "      <td>108590</td>\n",
       "      <td>1</td>\n",
       "    </tr>\n",
       "    <tr>\n",
       "      <th>2</th>\n",
       "      <td>1</td>\n",
       "      <td>5000</td>\n",
       "      <td>0</td>\n",
       "    </tr>\n",
       "    <tr>\n",
       "      <th>3</th>\n",
       "      <td>1</td>\n",
       "      <td>6692</td>\n",
       "      <td>1</td>\n",
       "    </tr>\n",
       "    <tr>\n",
       "      <th>4</th>\n",
       "      <td>1</td>\n",
       "      <td>142590</td>\n",
       "      <td>1</td>\n",
       "    </tr>\n",
       "    <tr>\n",
       "      <th>...</th>\n",
       "      <td>...</td>\n",
       "      <td>...</td>\n",
       "      <td>...</td>\n",
       "    </tr>\n",
       "    <tr>\n",
       "      <th>34294</th>\n",
       "      <td>1</td>\n",
       "      <td>5000</td>\n",
       "      <td>0</td>\n",
       "    </tr>\n",
       "    <tr>\n",
       "      <th>34295</th>\n",
       "      <td>1</td>\n",
       "      <td>5000</td>\n",
       "      <td>0</td>\n",
       "    </tr>\n",
       "    <tr>\n",
       "      <th>34296</th>\n",
       "      <td>1</td>\n",
       "      <td>5000</td>\n",
       "      <td>0</td>\n",
       "    </tr>\n",
       "    <tr>\n",
       "      <th>34297</th>\n",
       "      <td>1</td>\n",
       "      <td>5000</td>\n",
       "      <td>1</td>\n",
       "    </tr>\n",
       "    <tr>\n",
       "      <th>34298</th>\n",
       "      <td>1</td>\n",
       "      <td>36500179</td>\n",
       "      <td>0</td>\n",
       "    </tr>\n",
       "  </tbody>\n",
       "</table>\n",
       "<p>34299 rows × 3 columns</p>\n",
       "</div>"
      ],
      "text/plain": [
       "       STATUS   ASK_AMT  IS_SUCCESSFUL\n",
       "0           1      5000              1\n",
       "1           1    108590              1\n",
       "2           1      5000              0\n",
       "3           1      6692              1\n",
       "4           1    142590              1\n",
       "...       ...       ...            ...\n",
       "34294       1      5000              0\n",
       "34295       1      5000              0\n",
       "34296       1      5000              0\n",
       "34297       1      5000              1\n",
       "34298       1  36500179              0\n",
       "\n",
       "[34299 rows x 3 columns]"
      ]
     },
     "execution_count": 11,
     "metadata": {},
     "output_type": "execute_result"
    }
   ],
   "source": [
    "applicant_data_df[['STATUS', 'ASK_AMT', 'IS_SUCCESSFUL']]"
   ]
  },
  {
   "cell_type": "code",
   "execution_count": null,
   "metadata": {},
   "outputs": [],
   "source": []
  },
  {
   "cell_type": "code",
   "execution_count": 12,
   "metadata": {},
   "outputs": [
    {
     "data": {
      "text/html": [
       "<div>\n",
       "<style scoped>\n",
       "    .dataframe tbody tr th:only-of-type {\n",
       "        vertical-align: middle;\n",
       "    }\n",
       "\n",
       "    .dataframe tbody tr th {\n",
       "        vertical-align: top;\n",
       "    }\n",
       "\n",
       "    .dataframe thead th {\n",
       "        text-align: right;\n",
       "    }\n",
       "</style>\n",
       "<table border=\"1\" class=\"dataframe\">\n",
       "  <thead>\n",
       "    <tr style=\"text-align: right;\">\n",
       "      <th></th>\n",
       "      <th>APPLICATION_TYPE_T10</th>\n",
       "      <th>APPLICATION_TYPE_T12</th>\n",
       "      <th>APPLICATION_TYPE_T13</th>\n",
       "      <th>APPLICATION_TYPE_T14</th>\n",
       "      <th>APPLICATION_TYPE_T15</th>\n",
       "      <th>APPLICATION_TYPE_T17</th>\n",
       "      <th>APPLICATION_TYPE_T19</th>\n",
       "      <th>APPLICATION_TYPE_T2</th>\n",
       "      <th>APPLICATION_TYPE_T25</th>\n",
       "      <th>APPLICATION_TYPE_T29</th>\n",
       "      <th>...</th>\n",
       "      <th>INCOME_AMT_10M-50M</th>\n",
       "      <th>INCOME_AMT_1M-5M</th>\n",
       "      <th>INCOME_AMT_25000-99999</th>\n",
       "      <th>INCOME_AMT_50M+</th>\n",
       "      <th>INCOME_AMT_5M-10M</th>\n",
       "      <th>SPECIAL_CONSIDERATIONS_N</th>\n",
       "      <th>SPECIAL_CONSIDERATIONS_Y</th>\n",
       "      <th>STATUS</th>\n",
       "      <th>ASK_AMT</th>\n",
       "      <th>IS_SUCCESSFUL</th>\n",
       "    </tr>\n",
       "  </thead>\n",
       "  <tbody>\n",
       "    <tr>\n",
       "      <th>0</th>\n",
       "      <td>1.0</td>\n",
       "      <td>0.0</td>\n",
       "      <td>0.0</td>\n",
       "      <td>0.0</td>\n",
       "      <td>0.0</td>\n",
       "      <td>0.0</td>\n",
       "      <td>0.0</td>\n",
       "      <td>0.0</td>\n",
       "      <td>0.0</td>\n",
       "      <td>0.0</td>\n",
       "      <td>...</td>\n",
       "      <td>0.0</td>\n",
       "      <td>0.0</td>\n",
       "      <td>0.0</td>\n",
       "      <td>0.0</td>\n",
       "      <td>0.0</td>\n",
       "      <td>1.0</td>\n",
       "      <td>0.0</td>\n",
       "      <td>1</td>\n",
       "      <td>5000</td>\n",
       "      <td>1</td>\n",
       "    </tr>\n",
       "    <tr>\n",
       "      <th>1</th>\n",
       "      <td>0.0</td>\n",
       "      <td>0.0</td>\n",
       "      <td>0.0</td>\n",
       "      <td>0.0</td>\n",
       "      <td>0.0</td>\n",
       "      <td>0.0</td>\n",
       "      <td>0.0</td>\n",
       "      <td>0.0</td>\n",
       "      <td>0.0</td>\n",
       "      <td>0.0</td>\n",
       "      <td>...</td>\n",
       "      <td>0.0</td>\n",
       "      <td>0.0</td>\n",
       "      <td>0.0</td>\n",
       "      <td>0.0</td>\n",
       "      <td>0.0</td>\n",
       "      <td>1.0</td>\n",
       "      <td>0.0</td>\n",
       "      <td>1</td>\n",
       "      <td>108590</td>\n",
       "      <td>1</td>\n",
       "    </tr>\n",
       "    <tr>\n",
       "      <th>2</th>\n",
       "      <td>0.0</td>\n",
       "      <td>0.0</td>\n",
       "      <td>0.0</td>\n",
       "      <td>0.0</td>\n",
       "      <td>0.0</td>\n",
       "      <td>0.0</td>\n",
       "      <td>0.0</td>\n",
       "      <td>0.0</td>\n",
       "      <td>0.0</td>\n",
       "      <td>0.0</td>\n",
       "      <td>...</td>\n",
       "      <td>0.0</td>\n",
       "      <td>0.0</td>\n",
       "      <td>0.0</td>\n",
       "      <td>0.0</td>\n",
       "      <td>0.0</td>\n",
       "      <td>1.0</td>\n",
       "      <td>0.0</td>\n",
       "      <td>1</td>\n",
       "      <td>5000</td>\n",
       "      <td>0</td>\n",
       "    </tr>\n",
       "    <tr>\n",
       "      <th>3</th>\n",
       "      <td>0.0</td>\n",
       "      <td>0.0</td>\n",
       "      <td>0.0</td>\n",
       "      <td>0.0</td>\n",
       "      <td>0.0</td>\n",
       "      <td>0.0</td>\n",
       "      <td>0.0</td>\n",
       "      <td>0.0</td>\n",
       "      <td>0.0</td>\n",
       "      <td>0.0</td>\n",
       "      <td>...</td>\n",
       "      <td>0.0</td>\n",
       "      <td>0.0</td>\n",
       "      <td>0.0</td>\n",
       "      <td>0.0</td>\n",
       "      <td>0.0</td>\n",
       "      <td>1.0</td>\n",
       "      <td>0.0</td>\n",
       "      <td>1</td>\n",
       "      <td>6692</td>\n",
       "      <td>1</td>\n",
       "    </tr>\n",
       "    <tr>\n",
       "      <th>4</th>\n",
       "      <td>0.0</td>\n",
       "      <td>0.0</td>\n",
       "      <td>0.0</td>\n",
       "      <td>0.0</td>\n",
       "      <td>0.0</td>\n",
       "      <td>0.0</td>\n",
       "      <td>0.0</td>\n",
       "      <td>0.0</td>\n",
       "      <td>0.0</td>\n",
       "      <td>0.0</td>\n",
       "      <td>...</td>\n",
       "      <td>0.0</td>\n",
       "      <td>0.0</td>\n",
       "      <td>0.0</td>\n",
       "      <td>0.0</td>\n",
       "      <td>0.0</td>\n",
       "      <td>1.0</td>\n",
       "      <td>0.0</td>\n",
       "      <td>1</td>\n",
       "      <td>142590</td>\n",
       "      <td>1</td>\n",
       "    </tr>\n",
       "  </tbody>\n",
       "</table>\n",
       "<p>5 rows × 117 columns</p>\n",
       "</div>"
      ],
      "text/plain": [
       "   APPLICATION_TYPE_T10  APPLICATION_TYPE_T12  APPLICATION_TYPE_T13   \n",
       "0                   1.0                   0.0                   0.0  \\\n",
       "1                   0.0                   0.0                   0.0   \n",
       "2                   0.0                   0.0                   0.0   \n",
       "3                   0.0                   0.0                   0.0   \n",
       "4                   0.0                   0.0                   0.0   \n",
       "\n",
       "   APPLICATION_TYPE_T14  APPLICATION_TYPE_T15  APPLICATION_TYPE_T17   \n",
       "0                   0.0                   0.0                   0.0  \\\n",
       "1                   0.0                   0.0                   0.0   \n",
       "2                   0.0                   0.0                   0.0   \n",
       "3                   0.0                   0.0                   0.0   \n",
       "4                   0.0                   0.0                   0.0   \n",
       "\n",
       "   APPLICATION_TYPE_T19  APPLICATION_TYPE_T2  APPLICATION_TYPE_T25   \n",
       "0                   0.0                  0.0                   0.0  \\\n",
       "1                   0.0                  0.0                   0.0   \n",
       "2                   0.0                  0.0                   0.0   \n",
       "3                   0.0                  0.0                   0.0   \n",
       "4                   0.0                  0.0                   0.0   \n",
       "\n",
       "   APPLICATION_TYPE_T29  ...  INCOME_AMT_10M-50M  INCOME_AMT_1M-5M   \n",
       "0                   0.0  ...                 0.0               0.0  \\\n",
       "1                   0.0  ...                 0.0               0.0   \n",
       "2                   0.0  ...                 0.0               0.0   \n",
       "3                   0.0  ...                 0.0               0.0   \n",
       "4                   0.0  ...                 0.0               0.0   \n",
       "\n",
       "   INCOME_AMT_25000-99999  INCOME_AMT_50M+  INCOME_AMT_5M-10M   \n",
       "0                     0.0              0.0                0.0  \\\n",
       "1                     0.0              0.0                0.0   \n",
       "2                     0.0              0.0                0.0   \n",
       "3                     0.0              0.0                0.0   \n",
       "4                     0.0              0.0                0.0   \n",
       "\n",
       "   SPECIAL_CONSIDERATIONS_N  SPECIAL_CONSIDERATIONS_Y  STATUS  ASK_AMT   \n",
       "0                       1.0                       0.0       1     5000  \\\n",
       "1                       1.0                       0.0       1   108590   \n",
       "2                       1.0                       0.0       1     5000   \n",
       "3                       1.0                       0.0       1     6692   \n",
       "4                       1.0                       0.0       1   142590   \n",
       "\n",
       "   IS_SUCCESSFUL  \n",
       "0              1  \n",
       "1              1  \n",
       "2              0  \n",
       "3              1  \n",
       "4              1  \n",
       "\n",
       "[5 rows x 117 columns]"
      ]
     },
     "execution_count": 12,
     "metadata": {},
     "output_type": "execute_result"
    }
   ],
   "source": [
    "# Add the numerical variables from the original DataFrame to the one-hot encoding DataFrame\n",
    "encoded_df = pd.concat([encoded_df, applicant_data_df[['STATUS', 'ASK_AMT', 'IS_SUCCESSFUL']]], axis=1)\n",
    "\n",
    "# Review the Dataframe\n",
    "encoded_df.head()"
   ]
  },
  {
   "cell_type": "code",
   "execution_count": null,
   "metadata": {},
   "outputs": [],
   "source": []
  },
  {
   "cell_type": "markdown",
   "metadata": {},
   "source": [
    "### Step 5: Using the preprocessed data, create the features (`X`) and target (`y`) datasets. The target dataset should be defined by the preprocessed DataFrame column “IS_SUCCESSFUL”. The remaining columns should define the features dataset. \n",
    "\n"
   ]
  },
  {
   "cell_type": "code",
   "execution_count": 13,
   "metadata": {},
   "outputs": [
    {
     "data": {
      "text/html": [
       "<div>\n",
       "<style scoped>\n",
       "    .dataframe tbody tr th:only-of-type {\n",
       "        vertical-align: middle;\n",
       "    }\n",
       "\n",
       "    .dataframe tbody tr th {\n",
       "        vertical-align: top;\n",
       "    }\n",
       "\n",
       "    .dataframe thead th {\n",
       "        text-align: right;\n",
       "    }\n",
       "</style>\n",
       "<table border=\"1\" class=\"dataframe\">\n",
       "  <thead>\n",
       "    <tr style=\"text-align: right;\">\n",
       "      <th></th>\n",
       "      <th>IS_SUCCESSFUL</th>\n",
       "    </tr>\n",
       "  </thead>\n",
       "  <tbody>\n",
       "    <tr>\n",
       "      <th>0</th>\n",
       "      <td>1</td>\n",
       "    </tr>\n",
       "    <tr>\n",
       "      <th>1</th>\n",
       "      <td>1</td>\n",
       "    </tr>\n",
       "    <tr>\n",
       "      <th>2</th>\n",
       "      <td>0</td>\n",
       "    </tr>\n",
       "    <tr>\n",
       "      <th>3</th>\n",
       "      <td>1</td>\n",
       "    </tr>\n",
       "    <tr>\n",
       "      <th>4</th>\n",
       "      <td>1</td>\n",
       "    </tr>\n",
       "  </tbody>\n",
       "</table>\n",
       "</div>"
      ],
      "text/plain": [
       "   IS_SUCCESSFUL\n",
       "0              1\n",
       "1              1\n",
       "2              0\n",
       "3              1\n",
       "4              1"
      ]
     },
     "execution_count": 13,
     "metadata": {},
     "output_type": "execute_result"
    }
   ],
   "source": [
    "# Define the target set y using the IS_SUCCESSFUL column\n",
    "y = encoded_df[[\"IS_SUCCESSFUL\"]]\n",
    "\n",
    "# Display a sample of y\n",
    "y[:5]"
   ]
  },
  {
   "cell_type": "code",
   "execution_count": null,
   "metadata": {},
   "outputs": [],
   "source": []
  },
  {
   "cell_type": "code",
   "execution_count": 14,
   "metadata": {},
   "outputs": [
    {
     "data": {
      "text/html": [
       "<div>\n",
       "<style scoped>\n",
       "    .dataframe tbody tr th:only-of-type {\n",
       "        vertical-align: middle;\n",
       "    }\n",
       "\n",
       "    .dataframe tbody tr th {\n",
       "        vertical-align: top;\n",
       "    }\n",
       "\n",
       "    .dataframe thead th {\n",
       "        text-align: right;\n",
       "    }\n",
       "</style>\n",
       "<table border=\"1\" class=\"dataframe\">\n",
       "  <thead>\n",
       "    <tr style=\"text-align: right;\">\n",
       "      <th></th>\n",
       "      <th>APPLICATION_TYPE_T10</th>\n",
       "      <th>APPLICATION_TYPE_T12</th>\n",
       "      <th>APPLICATION_TYPE_T13</th>\n",
       "      <th>APPLICATION_TYPE_T14</th>\n",
       "      <th>APPLICATION_TYPE_T15</th>\n",
       "      <th>APPLICATION_TYPE_T17</th>\n",
       "      <th>APPLICATION_TYPE_T19</th>\n",
       "      <th>APPLICATION_TYPE_T2</th>\n",
       "      <th>APPLICATION_TYPE_T25</th>\n",
       "      <th>APPLICATION_TYPE_T29</th>\n",
       "      <th>...</th>\n",
       "      <th>INCOME_AMT_100000-499999</th>\n",
       "      <th>INCOME_AMT_10M-50M</th>\n",
       "      <th>INCOME_AMT_1M-5M</th>\n",
       "      <th>INCOME_AMT_25000-99999</th>\n",
       "      <th>INCOME_AMT_50M+</th>\n",
       "      <th>INCOME_AMT_5M-10M</th>\n",
       "      <th>SPECIAL_CONSIDERATIONS_N</th>\n",
       "      <th>SPECIAL_CONSIDERATIONS_Y</th>\n",
       "      <th>STATUS</th>\n",
       "      <th>ASK_AMT</th>\n",
       "    </tr>\n",
       "  </thead>\n",
       "  <tbody>\n",
       "    <tr>\n",
       "      <th>0</th>\n",
       "      <td>1.0</td>\n",
       "      <td>0.0</td>\n",
       "      <td>0.0</td>\n",
       "      <td>0.0</td>\n",
       "      <td>0.0</td>\n",
       "      <td>0.0</td>\n",
       "      <td>0.0</td>\n",
       "      <td>0.0</td>\n",
       "      <td>0.0</td>\n",
       "      <td>0.0</td>\n",
       "      <td>...</td>\n",
       "      <td>0.0</td>\n",
       "      <td>0.0</td>\n",
       "      <td>0.0</td>\n",
       "      <td>0.0</td>\n",
       "      <td>0.0</td>\n",
       "      <td>0.0</td>\n",
       "      <td>1.0</td>\n",
       "      <td>0.0</td>\n",
       "      <td>1</td>\n",
       "      <td>5000</td>\n",
       "    </tr>\n",
       "    <tr>\n",
       "      <th>1</th>\n",
       "      <td>0.0</td>\n",
       "      <td>0.0</td>\n",
       "      <td>0.0</td>\n",
       "      <td>0.0</td>\n",
       "      <td>0.0</td>\n",
       "      <td>0.0</td>\n",
       "      <td>0.0</td>\n",
       "      <td>0.0</td>\n",
       "      <td>0.0</td>\n",
       "      <td>0.0</td>\n",
       "      <td>...</td>\n",
       "      <td>0.0</td>\n",
       "      <td>0.0</td>\n",
       "      <td>0.0</td>\n",
       "      <td>0.0</td>\n",
       "      <td>0.0</td>\n",
       "      <td>0.0</td>\n",
       "      <td>1.0</td>\n",
       "      <td>0.0</td>\n",
       "      <td>1</td>\n",
       "      <td>108590</td>\n",
       "    </tr>\n",
       "    <tr>\n",
       "      <th>2</th>\n",
       "      <td>0.0</td>\n",
       "      <td>0.0</td>\n",
       "      <td>0.0</td>\n",
       "      <td>0.0</td>\n",
       "      <td>0.0</td>\n",
       "      <td>0.0</td>\n",
       "      <td>0.0</td>\n",
       "      <td>0.0</td>\n",
       "      <td>0.0</td>\n",
       "      <td>0.0</td>\n",
       "      <td>...</td>\n",
       "      <td>0.0</td>\n",
       "      <td>0.0</td>\n",
       "      <td>0.0</td>\n",
       "      <td>0.0</td>\n",
       "      <td>0.0</td>\n",
       "      <td>0.0</td>\n",
       "      <td>1.0</td>\n",
       "      <td>0.0</td>\n",
       "      <td>1</td>\n",
       "      <td>5000</td>\n",
       "    </tr>\n",
       "    <tr>\n",
       "      <th>3</th>\n",
       "      <td>0.0</td>\n",
       "      <td>0.0</td>\n",
       "      <td>0.0</td>\n",
       "      <td>0.0</td>\n",
       "      <td>0.0</td>\n",
       "      <td>0.0</td>\n",
       "      <td>0.0</td>\n",
       "      <td>0.0</td>\n",
       "      <td>0.0</td>\n",
       "      <td>0.0</td>\n",
       "      <td>...</td>\n",
       "      <td>0.0</td>\n",
       "      <td>0.0</td>\n",
       "      <td>0.0</td>\n",
       "      <td>0.0</td>\n",
       "      <td>0.0</td>\n",
       "      <td>0.0</td>\n",
       "      <td>1.0</td>\n",
       "      <td>0.0</td>\n",
       "      <td>1</td>\n",
       "      <td>6692</td>\n",
       "    </tr>\n",
       "    <tr>\n",
       "      <th>4</th>\n",
       "      <td>0.0</td>\n",
       "      <td>0.0</td>\n",
       "      <td>0.0</td>\n",
       "      <td>0.0</td>\n",
       "      <td>0.0</td>\n",
       "      <td>0.0</td>\n",
       "      <td>0.0</td>\n",
       "      <td>0.0</td>\n",
       "      <td>0.0</td>\n",
       "      <td>0.0</td>\n",
       "      <td>...</td>\n",
       "      <td>1.0</td>\n",
       "      <td>0.0</td>\n",
       "      <td>0.0</td>\n",
       "      <td>0.0</td>\n",
       "      <td>0.0</td>\n",
       "      <td>0.0</td>\n",
       "      <td>1.0</td>\n",
       "      <td>0.0</td>\n",
       "      <td>1</td>\n",
       "      <td>142590</td>\n",
       "    </tr>\n",
       "  </tbody>\n",
       "</table>\n",
       "<p>5 rows × 116 columns</p>\n",
       "</div>"
      ],
      "text/plain": [
       "   APPLICATION_TYPE_T10  APPLICATION_TYPE_T12  APPLICATION_TYPE_T13   \n",
       "0                   1.0                   0.0                   0.0  \\\n",
       "1                   0.0                   0.0                   0.0   \n",
       "2                   0.0                   0.0                   0.0   \n",
       "3                   0.0                   0.0                   0.0   \n",
       "4                   0.0                   0.0                   0.0   \n",
       "\n",
       "   APPLICATION_TYPE_T14  APPLICATION_TYPE_T15  APPLICATION_TYPE_T17   \n",
       "0                   0.0                   0.0                   0.0  \\\n",
       "1                   0.0                   0.0                   0.0   \n",
       "2                   0.0                   0.0                   0.0   \n",
       "3                   0.0                   0.0                   0.0   \n",
       "4                   0.0                   0.0                   0.0   \n",
       "\n",
       "   APPLICATION_TYPE_T19  APPLICATION_TYPE_T2  APPLICATION_TYPE_T25   \n",
       "0                   0.0                  0.0                   0.0  \\\n",
       "1                   0.0                  0.0                   0.0   \n",
       "2                   0.0                  0.0                   0.0   \n",
       "3                   0.0                  0.0                   0.0   \n",
       "4                   0.0                  0.0                   0.0   \n",
       "\n",
       "   APPLICATION_TYPE_T29  ...  INCOME_AMT_100000-499999  INCOME_AMT_10M-50M   \n",
       "0                   0.0  ...                       0.0                 0.0  \\\n",
       "1                   0.0  ...                       0.0                 0.0   \n",
       "2                   0.0  ...                       0.0                 0.0   \n",
       "3                   0.0  ...                       0.0                 0.0   \n",
       "4                   0.0  ...                       1.0                 0.0   \n",
       "\n",
       "   INCOME_AMT_1M-5M  INCOME_AMT_25000-99999  INCOME_AMT_50M+   \n",
       "0               0.0                     0.0              0.0  \\\n",
       "1               0.0                     0.0              0.0   \n",
       "2               0.0                     0.0              0.0   \n",
       "3               0.0                     0.0              0.0   \n",
       "4               0.0                     0.0              0.0   \n",
       "\n",
       "   INCOME_AMT_5M-10M  SPECIAL_CONSIDERATIONS_N  SPECIAL_CONSIDERATIONS_Y   \n",
       "0                0.0                       1.0                       0.0  \\\n",
       "1                0.0                       1.0                       0.0   \n",
       "2                0.0                       1.0                       0.0   \n",
       "3                0.0                       1.0                       0.0   \n",
       "4                0.0                       1.0                       0.0   \n",
       "\n",
       "   STATUS  ASK_AMT  \n",
       "0       1     5000  \n",
       "1       1   108590  \n",
       "2       1     5000  \n",
       "3       1     6692  \n",
       "4       1   142590  \n",
       "\n",
       "[5 rows x 116 columns]"
      ]
     },
     "execution_count": 14,
     "metadata": {},
     "output_type": "execute_result"
    }
   ],
   "source": [
    "# Define features set X by selecting all columns but IS_SUCCESSFUL\n",
    "X = encoded_df.drop(columns='IS_SUCCESSFUL')\n",
    "\n",
    "# Review the features DataFrame\n",
    "X.head()"
   ]
  },
  {
   "cell_type": "code",
   "execution_count": null,
   "metadata": {},
   "outputs": [],
   "source": []
  },
  {
   "cell_type": "markdown",
   "metadata": {},
   "source": [
    "### Step 6: Split the features and target sets into training and testing datasets.\n"
   ]
  },
  {
   "cell_type": "code",
   "execution_count": 15,
   "metadata": {},
   "outputs": [],
   "source": [
    "# Split the preprocessed data into a training and testing dataset\n",
    "# Assign the function a random_state equal to 1\n",
    "X_train, X_test, y_train, y_test = train_test_split(X, y, random_state=1)"
   ]
  },
  {
   "cell_type": "code",
   "execution_count": null,
   "metadata": {},
   "outputs": [],
   "source": []
  },
  {
   "cell_type": "markdown",
   "metadata": {},
   "source": [
    "### Step 7: Use scikit-learn's `StandardScaler` to scale the features data."
   ]
  },
  {
   "cell_type": "code",
   "execution_count": 16,
   "metadata": {},
   "outputs": [],
   "source": [
    "# Create a StandardScaler instance\n",
    "scaler = StandardScaler()\n",
    "\n",
    "# Fit the scaler to the features training dataset\n",
    "X_scaler = scaler.fit(X_train)\n",
    "\n",
    "# Fit the scaler to the features training dataset\n",
    "X_train_scaled = X_scaler.transform(X_train)\n",
    "X_test_scaled = X_scaler.transform(X_test)"
   ]
  },
  {
   "cell_type": "code",
   "execution_count": null,
   "metadata": {},
   "outputs": [],
   "source": []
  },
  {
   "cell_type": "markdown",
   "metadata": {},
   "source": [
    "---\n",
    "\n",
    "## Compile and Evaluate a Binary Classification Model Using a Neural Network"
   ]
  },
  {
   "cell_type": "markdown",
   "metadata": {},
   "source": [
    "### Step 1: Create a deep neural network by assigning the number of input features, the number of layers, and the number of neurons on each layer using Tensorflow’s Keras.\n",
    "\n",
    "> **Hint** You can start with a two-layer deep neural network model that uses the `relu` activation function for both layers.\n"
   ]
  },
  {
   "cell_type": "code",
   "execution_count": 17,
   "metadata": {},
   "outputs": [
    {
     "data": {
      "text/plain": [
       "116"
      ]
     },
     "execution_count": 17,
     "metadata": {},
     "output_type": "execute_result"
    }
   ],
   "source": [
    "# Define the the number of inputs (features) to the model\n",
    "number_input_features = 116\n",
    "\n",
    "# Review the number of features\n",
    "number_input_features"
   ]
  },
  {
   "cell_type": "code",
   "execution_count": null,
   "metadata": {},
   "outputs": [],
   "source": []
  },
  {
   "cell_type": "code",
   "execution_count": 18,
   "metadata": {},
   "outputs": [],
   "source": [
    "# Define the number of neurons in the output layer\n",
    "number_output_neurons = 15"
   ]
  },
  {
   "cell_type": "code",
   "execution_count": 19,
   "metadata": {},
   "outputs": [
    {
     "data": {
      "text/plain": [
       "15"
      ]
     },
     "execution_count": 19,
     "metadata": {},
     "output_type": "execute_result"
    }
   ],
   "source": [
    "# Define the number of hidden nodes for the first hidden layer\n",
    "hidden_nodes_layer1 =  15\n",
    "\n",
    "# Review the number hidden nodes in the first layer\n",
    "hidden_nodes_layer1"
   ]
  },
  {
   "cell_type": "code",
   "execution_count": null,
   "metadata": {},
   "outputs": [],
   "source": []
  },
  {
   "cell_type": "code",
   "execution_count": 20,
   "metadata": {},
   "outputs": [
    {
     "data": {
      "text/plain": [
       "15"
      ]
     },
     "execution_count": 20,
     "metadata": {},
     "output_type": "execute_result"
    }
   ],
   "source": [
    "# Define the number of hidden nodes for the second hidden layer\n",
    "hidden_nodes_layer2 =  15\n",
    "\n",
    "# Review the number hidden nodes in the second layer\n",
    "hidden_nodes_layer2"
   ]
  },
  {
   "cell_type": "code",
   "execution_count": null,
   "metadata": {},
   "outputs": [],
   "source": []
  },
  {
   "cell_type": "code",
   "execution_count": 21,
   "metadata": {},
   "outputs": [],
   "source": [
    "# Create the Sequential model instance\n",
    "nn = Sequential()"
   ]
  },
  {
   "cell_type": "code",
   "execution_count": null,
   "metadata": {},
   "outputs": [],
   "source": []
  },
  {
   "cell_type": "code",
   "execution_count": 22,
   "metadata": {},
   "outputs": [],
   "source": [
    "# Add the first hidden layer\n",
    "nn.add(\n",
    "    Dense(units=hidden_nodes_layer1, input_dim=number_input_features, activation=\"relu\")\n",
    ")"
   ]
  },
  {
   "cell_type": "code",
   "execution_count": null,
   "metadata": {},
   "outputs": [],
   "source": []
  },
  {
   "cell_type": "code",
   "execution_count": 23,
   "metadata": {},
   "outputs": [],
   "source": [
    "# Add the second hidden layer\n",
    "nn.add(Dense(units=hidden_nodes_layer2, activation=\"relu\"))"
   ]
  },
  {
   "cell_type": "code",
   "execution_count": null,
   "metadata": {},
   "outputs": [],
   "source": []
  },
  {
   "cell_type": "code",
   "execution_count": 24,
   "metadata": {},
   "outputs": [],
   "source": [
    "# Add the output layer to the model specifying the number of output neurons and activation function\n",
    "nn.add(Dense(units=1, activation=\"sigmoid\"))"
   ]
  },
  {
   "cell_type": "code",
   "execution_count": null,
   "metadata": {},
   "outputs": [],
   "source": []
  },
  {
   "cell_type": "code",
   "execution_count": 25,
   "metadata": {},
   "outputs": [
    {
     "name": "stdout",
     "output_type": "stream",
     "text": [
      "Model: \"sequential\"\n",
      "_________________________________________________________________\n",
      " Layer (type)                Output Shape              Param #   \n",
      "=================================================================\n",
      " dense (Dense)               (None, 15)                1755      \n",
      "                                                                 \n",
      " dense_1 (Dense)             (None, 15)                240       \n",
      "                                                                 \n",
      " dense_2 (Dense)             (None, 1)                 16        \n",
      "                                                                 \n",
      "=================================================================\n",
      "Total params: 2,011\n",
      "Trainable params: 2,011\n",
      "Non-trainable params: 0\n",
      "_________________________________________________________________\n"
     ]
    }
   ],
   "source": [
    "# Display the Sequential model summary\n",
    "nn.summary()"
   ]
  },
  {
   "cell_type": "code",
   "execution_count": null,
   "metadata": {},
   "outputs": [],
   "source": []
  },
  {
   "cell_type": "markdown",
   "metadata": {},
   "source": [
    "### Step 2: Compile and fit the model using the `binary_crossentropy` loss function, the `adam` optimizer, and the `accuracy` evaluation metric.\n"
   ]
  },
  {
   "cell_type": "code",
   "execution_count": 26,
   "metadata": {},
   "outputs": [],
   "source": [
    "# Compile the Sequential model\n",
    "nn.compile(loss=\"binary_crossentropy\", optimizer=\"adam\", metrics=[\"accuracy\"])"
   ]
  },
  {
   "cell_type": "code",
   "execution_count": null,
   "metadata": {},
   "outputs": [],
   "source": []
  },
  {
   "cell_type": "code",
   "execution_count": 27,
   "metadata": {},
   "outputs": [
    {
     "name": "stdout",
     "output_type": "stream",
     "text": [
      "Epoch 1/50\n",
      "563/563 [==============================] - 2s 2ms/step - loss: 0.6070 - accuracy: 0.6983 - val_loss: 0.5614 - val_accuracy: 0.7335\n",
      "Epoch 2/50\n",
      "563/563 [==============================] - 1s 2ms/step - loss: 0.5645 - accuracy: 0.7226 - val_loss: 0.5583 - val_accuracy: 0.7356\n",
      "Epoch 3/50\n",
      "563/563 [==============================] - 1s 2ms/step - loss: 0.5572 - accuracy: 0.7274 - val_loss: 0.5546 - val_accuracy: 0.7383\n",
      "Epoch 4/50\n",
      "563/563 [==============================] - 1s 2ms/step - loss: 0.5544 - accuracy: 0.7264 - val_loss: 0.5549 - val_accuracy: 0.7365\n",
      "Epoch 5/50\n",
      "563/563 [==============================] - 1s 2ms/step - loss: 0.5512 - accuracy: 0.7280 - val_loss: 0.5572 - val_accuracy: 0.7375\n",
      "Epoch 6/50\n",
      "563/563 [==============================] - 1s 2ms/step - loss: 0.5501 - accuracy: 0.7294 - val_loss: 0.5523 - val_accuracy: 0.7379\n",
      "Epoch 7/50\n",
      "563/563 [==============================] - 1s 2ms/step - loss: 0.5490 - accuracy: 0.7288 - val_loss: 0.5522 - val_accuracy: 0.7391\n",
      "Epoch 8/50\n",
      "563/563 [==============================] - 1s 2ms/step - loss: 0.5479 - accuracy: 0.7298 - val_loss: 0.5524 - val_accuracy: 0.7393\n",
      "Epoch 9/50\n",
      "563/563 [==============================] - 1s 2ms/step - loss: 0.5473 - accuracy: 0.7294 - val_loss: 0.5523 - val_accuracy: 0.7402\n",
      "Epoch 10/50\n",
      "563/563 [==============================] - 1s 2ms/step - loss: 0.5469 - accuracy: 0.7300 - val_loss: 0.5561 - val_accuracy: 0.7354\n",
      "Epoch 11/50\n",
      "563/563 [==============================] - 1s 2ms/step - loss: 0.5464 - accuracy: 0.7299 - val_loss: 0.5526 - val_accuracy: 0.7393\n",
      "Epoch 12/50\n",
      "563/563 [==============================] - 1s 2ms/step - loss: 0.5460 - accuracy: 0.7303 - val_loss: 0.5535 - val_accuracy: 0.7388\n",
      "Epoch 13/50\n",
      "563/563 [==============================] - 1s 2ms/step - loss: 0.5454 - accuracy: 0.7330 - val_loss: 0.5551 - val_accuracy: 0.7383\n",
      "Epoch 14/50\n",
      "563/563 [==============================] - 1s 2ms/step - loss: 0.5449 - accuracy: 0.7320 - val_loss: 0.5537 - val_accuracy: 0.7385\n",
      "Epoch 15/50\n",
      "563/563 [==============================] - 1s 2ms/step - loss: 0.5440 - accuracy: 0.7328 - val_loss: 0.5555 - val_accuracy: 0.7378\n",
      "Epoch 16/50\n",
      "563/563 [==============================] - 1s 2ms/step - loss: 0.5441 - accuracy: 0.7313 - val_loss: 0.5562 - val_accuracy: 0.7371\n",
      "Epoch 17/50\n",
      "563/563 [==============================] - 1s 2ms/step - loss: 0.5441 - accuracy: 0.7329 - val_loss: 0.5561 - val_accuracy: 0.7366\n",
      "Epoch 18/50\n",
      "563/563 [==============================] - 1s 2ms/step - loss: 0.5434 - accuracy: 0.7328 - val_loss: 0.5583 - val_accuracy: 0.7336\n",
      "Epoch 19/50\n",
      "563/563 [==============================] - 1s 2ms/step - loss: 0.5427 - accuracy: 0.7329 - val_loss: 0.5566 - val_accuracy: 0.7343\n",
      "Epoch 20/50\n",
      "563/563 [==============================] - 1s 2ms/step - loss: 0.5428 - accuracy: 0.7320 - val_loss: 0.5557 - val_accuracy: 0.7359\n",
      "Epoch 21/50\n",
      "563/563 [==============================] - 1s 2ms/step - loss: 0.5419 - accuracy: 0.7333 - val_loss: 0.5554 - val_accuracy: 0.7368\n",
      "Epoch 22/50\n",
      "563/563 [==============================] - 1s 2ms/step - loss: 0.5424 - accuracy: 0.7333 - val_loss: 0.5563 - val_accuracy: 0.7383\n",
      "Epoch 23/50\n",
      "563/563 [==============================] - 1s 2ms/step - loss: 0.5416 - accuracy: 0.7334 - val_loss: 0.5571 - val_accuracy: 0.7350\n",
      "Epoch 24/50\n",
      "563/563 [==============================] - 1s 2ms/step - loss: 0.5413 - accuracy: 0.7339 - val_loss: 0.5593 - val_accuracy: 0.7358\n",
      "Epoch 25/50\n",
      "563/563 [==============================] - 1s 2ms/step - loss: 0.5410 - accuracy: 0.7340 - val_loss: 0.5559 - val_accuracy: 0.7376\n",
      "Epoch 26/50\n",
      "563/563 [==============================] - 1s 2ms/step - loss: 0.5403 - accuracy: 0.7346 - val_loss: 0.5571 - val_accuracy: 0.7357\n",
      "Epoch 27/50\n",
      "563/563 [==============================] - 1s 2ms/step - loss: 0.5405 - accuracy: 0.7336 - val_loss: 0.5561 - val_accuracy: 0.7378\n",
      "Epoch 28/50\n",
      "563/563 [==============================] - 1s 2ms/step - loss: 0.5397 - accuracy: 0.7345 - val_loss: 0.5576 - val_accuracy: 0.7352\n",
      "Epoch 29/50\n",
      "563/563 [==============================] - 1s 2ms/step - loss: 0.5405 - accuracy: 0.7334 - val_loss: 0.5587 - val_accuracy: 0.7352\n",
      "Epoch 30/50\n",
      "563/563 [==============================] - 1s 2ms/step - loss: 0.5402 - accuracy: 0.7345 - val_loss: 0.5580 - val_accuracy: 0.7349\n",
      "Epoch 31/50\n",
      "563/563 [==============================] - 1s 2ms/step - loss: 0.5393 - accuracy: 0.7329 - val_loss: 0.5584 - val_accuracy: 0.7383\n",
      "Epoch 32/50\n",
      "563/563 [==============================] - 1s 2ms/step - loss: 0.5395 - accuracy: 0.7351 - val_loss: 0.5584 - val_accuracy: 0.7378\n",
      "Epoch 33/50\n",
      "563/563 [==============================] - 1s 2ms/step - loss: 0.5393 - accuracy: 0.7342 - val_loss: 0.5589 - val_accuracy: 0.7361\n",
      "Epoch 34/50\n",
      "563/563 [==============================] - 1s 2ms/step - loss: 0.5387 - accuracy: 0.7369 - val_loss: 0.5576 - val_accuracy: 0.7378\n",
      "Epoch 35/50\n",
      "563/563 [==============================] - 1s 2ms/step - loss: 0.5389 - accuracy: 0.7364 - val_loss: 0.5615 - val_accuracy: 0.7340\n",
      "Epoch 36/50\n",
      "563/563 [==============================] - 1s 2ms/step - loss: 0.5389 - accuracy: 0.7354 - val_loss: 0.5623 - val_accuracy: 0.7378\n",
      "Epoch 37/50\n",
      "563/563 [==============================] - 1s 2ms/step - loss: 0.5385 - accuracy: 0.7361 - val_loss: 0.5592 - val_accuracy: 0.7375\n",
      "Epoch 38/50\n",
      "563/563 [==============================] - 1s 2ms/step - loss: 0.5385 - accuracy: 0.7340 - val_loss: 0.5596 - val_accuracy: 0.7367\n",
      "Epoch 39/50\n",
      "563/563 [==============================] - 1s 2ms/step - loss: 0.5387 - accuracy: 0.7356 - val_loss: 0.5593 - val_accuracy: 0.7392\n",
      "Epoch 40/50\n",
      "563/563 [==============================] - 1s 2ms/step - loss: 0.5387 - accuracy: 0.7356 - val_loss: 0.5610 - val_accuracy: 0.7374\n",
      "Epoch 41/50\n",
      "563/563 [==============================] - 1s 2ms/step - loss: 0.5374 - accuracy: 0.7358 - val_loss: 0.5607 - val_accuracy: 0.7383\n",
      "Epoch 42/50\n",
      "563/563 [==============================] - 1s 2ms/step - loss: 0.5385 - accuracy: 0.7359 - val_loss: 0.5619 - val_accuracy: 0.7379\n",
      "Epoch 43/50\n",
      "563/563 [==============================] - 1s 2ms/step - loss: 0.5381 - accuracy: 0.7354 - val_loss: 0.5608 - val_accuracy: 0.7394\n",
      "Epoch 44/50\n",
      "563/563 [==============================] - 1s 2ms/step - loss: 0.5373 - accuracy: 0.7366 - val_loss: 0.5607 - val_accuracy: 0.7391\n",
      "Epoch 45/50\n",
      "563/563 [==============================] - 1s 2ms/step - loss: 0.5369 - accuracy: 0.7366 - val_loss: 0.5619 - val_accuracy: 0.7387\n",
      "Epoch 46/50\n",
      "563/563 [==============================] - 1s 2ms/step - loss: 0.5377 - accuracy: 0.7365 - val_loss: 0.5614 - val_accuracy: 0.7396\n",
      "Epoch 47/50\n",
      "563/563 [==============================] - 1s 2ms/step - loss: 0.5374 - accuracy: 0.7358 - val_loss: 0.5631 - val_accuracy: 0.7376\n",
      "Epoch 48/50\n",
      "563/563 [==============================] - 1s 2ms/step - loss: 0.5376 - accuracy: 0.7354 - val_loss: 0.5607 - val_accuracy: 0.7388\n",
      "Epoch 49/50\n",
      "563/563 [==============================] - 1s 2ms/step - loss: 0.5372 - accuracy: 0.7367 - val_loss: 0.5623 - val_accuracy: 0.7361\n",
      "Epoch 50/50\n",
      "563/563 [==============================] - 1s 2ms/step - loss: 0.5371 - accuracy: 0.7375 - val_loss: 0.5632 - val_accuracy: 0.7378\n"
     ]
    }
   ],
   "source": [
    "# Fit the model using 50 epochs and the training data\n",
    "model = nn.fit(X_train_scaled, y_train, validation_split=0.3, epochs=50)"
   ]
  },
  {
   "cell_type": "code",
   "execution_count": null,
   "metadata": {},
   "outputs": [],
   "source": []
  },
  {
   "cell_type": "markdown",
   "metadata": {},
   "source": [
    "### Step 3: Evaluate the model using the test data to determine the model’s loss and accuracy.\n"
   ]
  },
  {
   "cell_type": "code",
   "execution_count": 28,
   "metadata": {},
   "outputs": [
    {
     "name": "stdout",
     "output_type": "stream",
     "text": [
      "268/268 - 0s - loss: 0.5590 - accuracy: 0.7314 - 240ms/epoch - 895us/step\n",
      "Loss: 0.5590128302574158, Accuracy: 0.7314285635948181\n"
     ]
    }
   ],
   "source": [
    "# Evaluate the model loss and accuracy metrics using the evaluate method and the test data\n",
    "model_loss, model_accuracy = nn.evaluate(X_test_scaled, y_test, verbose=2)\n",
    "\n",
    "# Display the model loss and accuracy results\n",
    "print(f\"Loss: {model_loss}, Accuracy: {model_accuracy}\")"
   ]
  },
  {
   "cell_type": "code",
   "execution_count": null,
   "metadata": {},
   "outputs": [],
   "source": []
  },
  {
   "cell_type": "markdown",
   "metadata": {},
   "source": [
    "### Step 4: Save and export your model to an HDF5 file, and name the file `AlphabetSoup.h5`. "
   ]
  },
  {
   "cell_type": "code",
   "execution_count": 29,
   "metadata": {},
   "outputs": [],
   "source": [
    "# Set the model's file path\n",
    "file_path = Path(\"Resources/AlphabetSoup.h5\")\n",
    "\n",
    "# Export your model to a HDF5 file\n",
    "nn.save(file_path)"
   ]
  },
  {
   "cell_type": "code",
   "execution_count": null,
   "metadata": {},
   "outputs": [],
   "source": []
  },
  {
   "cell_type": "code",
   "execution_count": null,
   "metadata": {},
   "outputs": [],
   "source": []
  },
  {
   "cell_type": "markdown",
   "metadata": {},
   "source": [
    "---\n",
    "\n",
    "## Optimize the neural network model\n"
   ]
  },
  {
   "cell_type": "markdown",
   "metadata": {},
   "source": [
    "### Step 1: Define at least three new deep neural network models (resulting in the original plus 3 optimization attempts). With each, try to improve on your first model’s predictive accuracy.\n",
    "\n",
    "> **Rewind** Recall that perfect accuracy has a value of 1, so accuracy improves as its value moves closer to 1. To optimize your model for a predictive accuracy as close to 1 as possible, you can use any or all of the following techniques:\n",
    ">\n",
    "> * Adjust the input data by dropping different features columns to ensure that no variables or outliers confuse the model.\n",
    ">\n",
    "> * Add more neurons (nodes) to a hidden layer.\n",
    ">\n",
    "> * Add more hidden layers.\n",
    ">\n",
    "> * Use different activation functions for the hidden layers.\n",
    ">\n",
    "> * Add to or reduce the number of epochs in the training regimen.\n"
   ]
  },
  {
   "cell_type": "markdown",
   "metadata": {},
   "source": [
    "### Alternative Model 1"
   ]
  },
  {
   "cell_type": "code",
   "execution_count": 30,
   "metadata": {},
   "outputs": [
    {
     "name": "stderr",
     "output_type": "stream",
     "text": [
      "/Users/mac/anaconda3/envs/tf/lib/python3.9/site-packages/sklearn/preprocessing/_encoders.py:868: FutureWarning: `sparse` was renamed to `sparse_output` in version 1.2 and will be removed in 1.4. `sparse_output` is ignored unless you leave `sparse` to its default value.\n",
      "  warnings.warn(\n"
     ]
    }
   ],
   "source": [
    "# Alternate model without ASK_AMT\n",
    "applicant_data_df_Alternate1 = applicant_data_df.drop([\"ASK_AMT\"], axis=1)\n",
    "\n",
    "list(applicant_data_df_Alternate1.dtypes[applicant_data_df_Alternate1.dtypes == \"object\"].index)\n",
    "enc_Alternate1 = OneHotEncoder(sparse=False)\n",
    "encoded_data_Alternate1 = enc_Alternate1.fit_transform(applicant_data_df_Alternate1[categorical_variables])\n",
    "encoded_df_Alternate1 = pd.DataFrame(\n",
    "    encoded_data_Alternate1,\n",
    "    columns = enc_Alternate1.get_feature_names_out(categorical_variables)\n",
    ")\n",
    "\n",
    "\n",
    "\n",
    "encoded_df_Alternate1 = pd.concat([encoded_df_Alternate1, applicant_data_df_Alternate1[['STATUS', 'IS_SUCCESSFUL']]], axis=1)\n",
    "y_A1 = encoded_df_Alternate1[[\"IS_SUCCESSFUL\"]]\n",
    "X_A1 = encoded_df_Alternate1.drop(columns='IS_SUCCESSFUL')\n",
    "X_train_A1, X_test_A1, y_train_A1, y_test_A1 = train_test_split(X_A1, y_A1, random_state=1)\n",
    "scaler_A1 = StandardScaler()\n",
    "X_scaler_A1 = scaler_A1.fit(X_train_A1)\n",
    "X_train_scaled_A1 = X_scaler_A1.transform(X_train_A1)\n",
    "X_test_scaled_A1 = X_scaler_A1.transform(X_test_A1)\n"
   ]
  },
  {
   "cell_type": "code",
   "execution_count": null,
   "metadata": {},
   "outputs": [],
   "source": []
  },
  {
   "cell_type": "code",
   "execution_count": null,
   "metadata": {},
   "outputs": [],
   "source": []
  },
  {
   "cell_type": "code",
   "execution_count": null,
   "metadata": {},
   "outputs": [],
   "source": []
  },
  {
   "cell_type": "code",
   "execution_count": null,
   "metadata": {},
   "outputs": [],
   "source": []
  },
  {
   "cell_type": "code",
   "execution_count": 31,
   "metadata": {},
   "outputs": [
    {
     "data": {
      "text/plain": [
       "115"
      ]
     },
     "execution_count": 31,
     "metadata": {},
     "output_type": "execute_result"
    }
   ],
   "source": [
    "# Define the the number of inputs (features) to the model\n",
    "number_input_features_Alternate1 = len(X_train_A1.iloc[0])\n",
    "\n",
    "# Review the number of features\n",
    "number_input_features_Alternate1"
   ]
  },
  {
   "cell_type": "code",
   "execution_count": null,
   "metadata": {},
   "outputs": [],
   "source": []
  },
  {
   "cell_type": "code",
   "execution_count": null,
   "metadata": {},
   "outputs": [],
   "source": []
  },
  {
   "cell_type": "code",
   "execution_count": null,
   "metadata": {},
   "outputs": [],
   "source": []
  },
  {
   "cell_type": "code",
   "execution_count": null,
   "metadata": {},
   "outputs": [],
   "source": []
  },
  {
   "cell_type": "code",
   "execution_count": null,
   "metadata": {},
   "outputs": [],
   "source": []
  },
  {
   "cell_type": "code",
   "execution_count": 32,
   "metadata": {},
   "outputs": [],
   "source": [
    "# Define the number of neurons in the output layer\n",
    "number_output_neurons_Alternate1 = 15"
   ]
  },
  {
   "cell_type": "code",
   "execution_count": null,
   "metadata": {},
   "outputs": [],
   "source": []
  },
  {
   "cell_type": "code",
   "execution_count": null,
   "metadata": {},
   "outputs": [],
   "source": []
  },
  {
   "cell_type": "code",
   "execution_count": null,
   "metadata": {},
   "outputs": [],
   "source": []
  },
  {
   "cell_type": "code",
   "execution_count": null,
   "metadata": {},
   "outputs": [],
   "source": []
  },
  {
   "cell_type": "code",
   "execution_count": 33,
   "metadata": {},
   "outputs": [
    {
     "data": {
      "text/plain": [
       "15"
      ]
     },
     "execution_count": 33,
     "metadata": {},
     "output_type": "execute_result"
    }
   ],
   "source": [
    "# Define the number of hidden nodes for the first hidden layer\n",
    "hidden_nodes_layer1_Alternate1 = 15\n",
    "\n",
    "# Review the number of hidden nodes in the first layer\n",
    "hidden_nodes_layer1_Alternate1"
   ]
  },
  {
   "cell_type": "code",
   "execution_count": null,
   "metadata": {},
   "outputs": [],
   "source": []
  },
  {
   "cell_type": "code",
   "execution_count": null,
   "metadata": {},
   "outputs": [],
   "source": []
  },
  {
   "cell_type": "code",
   "execution_count": null,
   "metadata": {},
   "outputs": [],
   "source": []
  },
  {
   "cell_type": "code",
   "execution_count": null,
   "metadata": {},
   "outputs": [],
   "source": []
  },
  {
   "cell_type": "code",
   "execution_count": null,
   "metadata": {},
   "outputs": [],
   "source": []
  },
  {
   "cell_type": "code",
   "execution_count": 34,
   "metadata": {},
   "outputs": [],
   "source": [
    "# Create the Sequential model instance\n",
    "nn_Alternate1 = Sequential()"
   ]
  },
  {
   "cell_type": "code",
   "execution_count": null,
   "metadata": {},
   "outputs": [],
   "source": []
  },
  {
   "cell_type": "code",
   "execution_count": null,
   "metadata": {},
   "outputs": [],
   "source": []
  },
  {
   "cell_type": "code",
   "execution_count": null,
   "metadata": {},
   "outputs": [],
   "source": []
  },
  {
   "cell_type": "code",
   "execution_count": 35,
   "metadata": {},
   "outputs": [
    {
     "name": "stdout",
     "output_type": "stream",
     "text": [
      "Model: \"sequential_1\"\n",
      "_________________________________________________________________\n",
      " Layer (type)                Output Shape              Param #   \n",
      "=================================================================\n",
      " dense_3 (Dense)             (None, 15)                1740      \n",
      "                                                                 \n",
      " dense_4 (Dense)             (None, 15)                240       \n",
      "                                                                 \n",
      " dense_5 (Dense)             (None, 1)                 16        \n",
      "                                                                 \n",
      "=================================================================\n",
      "Total params: 1,996\n",
      "Trainable params: 1,996\n",
      "Non-trainable params: 0\n",
      "_________________________________________________________________\n"
     ]
    }
   ],
   "source": [
    "# First hidden layer\n",
    "nn_Alternate1.add(\n",
    "    Dense(units=hidden_nodes_layer1_Alternate1, input_dim=number_input_features_Alternate1, activation=\"relu\")\n",
    ")\n",
    "# Second hidden layer\n",
    "nn_Alternate1.add(Dense(units=hidden_nodes_layer2, activation=\"relu\"))\n",
    "# Output layer\n",
    "nn_Alternate1.add(Dense(units=1, activation=\"sigmoid\"))\n",
    "\n",
    "\n",
    "# Check the structure of the model\n",
    "nn_Alternate1.summary()"
   ]
  },
  {
   "cell_type": "code",
   "execution_count": null,
   "metadata": {},
   "outputs": [],
   "source": []
  },
  {
   "cell_type": "code",
   "execution_count": null,
   "metadata": {},
   "outputs": [],
   "source": []
  },
  {
   "cell_type": "code",
   "execution_count": null,
   "metadata": {},
   "outputs": [],
   "source": []
  },
  {
   "cell_type": "code",
   "execution_count": 36,
   "metadata": {},
   "outputs": [],
   "source": [
    "# Compile the Sequential model\n",
    "nn_Alternate1.compile(loss=\"binary_crossentropy\", optimizer=\"adam\", metrics=[\"accuracy\"])"
   ]
  },
  {
   "cell_type": "code",
   "execution_count": null,
   "metadata": {},
   "outputs": [],
   "source": []
  },
  {
   "cell_type": "code",
   "execution_count": null,
   "metadata": {},
   "outputs": [],
   "source": []
  },
  {
   "cell_type": "code",
   "execution_count": null,
   "metadata": {},
   "outputs": [],
   "source": []
  },
  {
   "cell_type": "code",
   "execution_count": null,
   "metadata": {},
   "outputs": [],
   "source": []
  },
  {
   "cell_type": "code",
   "execution_count": 37,
   "metadata": {},
   "outputs": [
    {
     "name": "stdout",
     "output_type": "stream",
     "text": [
      "Epoch 1/50\n",
      "563/563 [==============================] - 2s 2ms/step - loss: 0.6199 - accuracy: 0.6841 - val_loss: 0.5614 - val_accuracy: 0.7340\n",
      "Epoch 2/50\n",
      "563/563 [==============================] - 1s 2ms/step - loss: 0.5640 - accuracy: 0.7215 - val_loss: 0.5516 - val_accuracy: 0.7334\n",
      "Epoch 3/50\n",
      "563/563 [==============================] - 1s 2ms/step - loss: 0.5552 - accuracy: 0.7272 - val_loss: 0.5494 - val_accuracy: 0.7361\n",
      "Epoch 4/50\n",
      "563/563 [==============================] - 1s 2ms/step - loss: 0.5525 - accuracy: 0.7283 - val_loss: 0.5520 - val_accuracy: 0.7345\n",
      "Epoch 5/50\n",
      "563/563 [==============================] - 1s 2ms/step - loss: 0.5508 - accuracy: 0.7287 - val_loss: 0.5501 - val_accuracy: 0.7344\n",
      "Epoch 6/50\n",
      "563/563 [==============================] - 1s 2ms/step - loss: 0.5494 - accuracy: 0.7289 - val_loss: 0.5496 - val_accuracy: 0.7361\n",
      "Epoch 7/50\n",
      "563/563 [==============================] - 1s 2ms/step - loss: 0.5487 - accuracy: 0.7295 - val_loss: 0.5501 - val_accuracy: 0.7354\n",
      "Epoch 8/50\n",
      "563/563 [==============================] - 1s 2ms/step - loss: 0.5476 - accuracy: 0.7298 - val_loss: 0.5494 - val_accuracy: 0.7363\n",
      "Epoch 9/50\n",
      "563/563 [==============================] - 1s 2ms/step - loss: 0.5466 - accuracy: 0.7295 - val_loss: 0.5529 - val_accuracy: 0.7340\n",
      "Epoch 10/50\n",
      "563/563 [==============================] - 1s 2ms/step - loss: 0.5462 - accuracy: 0.7294 - val_loss: 0.5525 - val_accuracy: 0.7349\n",
      "Epoch 11/50\n",
      "563/563 [==============================] - 1s 2ms/step - loss: 0.5457 - accuracy: 0.7315 - val_loss: 0.5502 - val_accuracy: 0.7365\n",
      "Epoch 12/50\n",
      "563/563 [==============================] - 1s 2ms/step - loss: 0.5449 - accuracy: 0.7320 - val_loss: 0.5542 - val_accuracy: 0.7374\n",
      "Epoch 13/50\n",
      "563/563 [==============================] - 1s 2ms/step - loss: 0.5443 - accuracy: 0.7315 - val_loss: 0.5552 - val_accuracy: 0.7354\n",
      "Epoch 14/50\n",
      "563/563 [==============================] - 1s 2ms/step - loss: 0.5435 - accuracy: 0.7303 - val_loss: 0.5547 - val_accuracy: 0.7389\n",
      "Epoch 15/50\n",
      "563/563 [==============================] - 1s 2ms/step - loss: 0.5436 - accuracy: 0.7321 - val_loss: 0.5555 - val_accuracy: 0.7362\n",
      "Epoch 16/50\n",
      "563/563 [==============================] - 1s 2ms/step - loss: 0.5434 - accuracy: 0.7320 - val_loss: 0.5531 - val_accuracy: 0.7402\n",
      "Epoch 17/50\n",
      "563/563 [==============================] - 1s 2ms/step - loss: 0.5428 - accuracy: 0.7320 - val_loss: 0.5537 - val_accuracy: 0.7384\n",
      "Epoch 18/50\n",
      "563/563 [==============================] - 2s 3ms/step - loss: 0.5420 - accuracy: 0.7325 - val_loss: 0.5551 - val_accuracy: 0.7387\n",
      "Epoch 19/50\n",
      "563/563 [==============================] - 1s 3ms/step - loss: 0.5421 - accuracy: 0.7334 - val_loss: 0.5528 - val_accuracy: 0.7418\n",
      "Epoch 20/50\n",
      "563/563 [==============================] - 3s 5ms/step - loss: 0.5421 - accuracy: 0.7330 - val_loss: 0.5560 - val_accuracy: 0.7407\n",
      "Epoch 21/50\n",
      "563/563 [==============================] - 1s 2ms/step - loss: 0.5415 - accuracy: 0.7335 - val_loss: 0.5547 - val_accuracy: 0.7397\n",
      "Epoch 22/50\n",
      "563/563 [==============================] - 1s 2ms/step - loss: 0.5410 - accuracy: 0.7339 - val_loss: 0.5562 - val_accuracy: 0.7367\n",
      "Epoch 23/50\n",
      "563/563 [==============================] - 1s 2ms/step - loss: 0.5405 - accuracy: 0.7346 - val_loss: 0.5560 - val_accuracy: 0.7407\n",
      "Epoch 24/50\n",
      "563/563 [==============================] - 1s 2ms/step - loss: 0.5407 - accuracy: 0.7337 - val_loss: 0.5590 - val_accuracy: 0.7391\n",
      "Epoch 25/50\n",
      "563/563 [==============================] - 2s 3ms/step - loss: 0.5406 - accuracy: 0.7339 - val_loss: 0.5563 - val_accuracy: 0.7406\n",
      "Epoch 26/50\n",
      "563/563 [==============================] - 1s 2ms/step - loss: 0.5402 - accuracy: 0.7345 - val_loss: 0.5569 - val_accuracy: 0.7400\n",
      "Epoch 27/50\n",
      "563/563 [==============================] - 1s 2ms/step - loss: 0.5408 - accuracy: 0.7339 - val_loss: 0.5567 - val_accuracy: 0.7385\n",
      "Epoch 28/50\n",
      "563/563 [==============================] - 1s 2ms/step - loss: 0.5397 - accuracy: 0.7342 - val_loss: 0.5558 - val_accuracy: 0.7397\n",
      "Epoch 29/50\n",
      "563/563 [==============================] - 1s 2ms/step - loss: 0.5402 - accuracy: 0.7340 - val_loss: 0.5578 - val_accuracy: 0.7394\n",
      "Epoch 30/50\n",
      "563/563 [==============================] - 1s 2ms/step - loss: 0.5396 - accuracy: 0.7348 - val_loss: 0.5579 - val_accuracy: 0.7396\n",
      "Epoch 31/50\n",
      "563/563 [==============================] - 1s 2ms/step - loss: 0.5398 - accuracy: 0.7339 - val_loss: 0.5612 - val_accuracy: 0.7341\n",
      "Epoch 32/50\n",
      "563/563 [==============================] - 1s 2ms/step - loss: 0.5395 - accuracy: 0.7328 - val_loss: 0.5599 - val_accuracy: 0.7385\n",
      "Epoch 33/50\n",
      "563/563 [==============================] - 1s 2ms/step - loss: 0.5395 - accuracy: 0.7342 - val_loss: 0.5573 - val_accuracy: 0.7407\n",
      "Epoch 34/50\n",
      "563/563 [==============================] - 1s 2ms/step - loss: 0.5392 - accuracy: 0.7339 - val_loss: 0.5565 - val_accuracy: 0.7406\n",
      "Epoch 35/50\n",
      "563/563 [==============================] - 1s 2ms/step - loss: 0.5394 - accuracy: 0.7348 - val_loss: 0.5586 - val_accuracy: 0.7392\n",
      "Epoch 36/50\n",
      "563/563 [==============================] - 1s 2ms/step - loss: 0.5388 - accuracy: 0.7336 - val_loss: 0.5557 - val_accuracy: 0.7409\n",
      "Epoch 37/50\n",
      "563/563 [==============================] - 1s 2ms/step - loss: 0.5381 - accuracy: 0.7360 - val_loss: 0.5630 - val_accuracy: 0.7348\n",
      "Epoch 38/50\n",
      "563/563 [==============================] - 1s 2ms/step - loss: 0.5385 - accuracy: 0.7326 - val_loss: 0.5583 - val_accuracy: 0.7409\n",
      "Epoch 39/50\n",
      "563/563 [==============================] - 1s 2ms/step - loss: 0.5380 - accuracy: 0.7365 - val_loss: 0.5675 - val_accuracy: 0.7345\n",
      "Epoch 40/50\n",
      "563/563 [==============================] - 1s 2ms/step - loss: 0.5382 - accuracy: 0.7341 - val_loss: 0.5591 - val_accuracy: 0.7375\n",
      "Epoch 41/50\n",
      "563/563 [==============================] - 1s 2ms/step - loss: 0.5378 - accuracy: 0.7361 - val_loss: 0.5594 - val_accuracy: 0.7375\n",
      "Epoch 42/50\n",
      "563/563 [==============================] - 1s 2ms/step - loss: 0.5381 - accuracy: 0.7359 - val_loss: 0.5629 - val_accuracy: 0.7393\n",
      "Epoch 43/50\n",
      "563/563 [==============================] - 1s 2ms/step - loss: 0.5379 - accuracy: 0.7351 - val_loss: 0.5629 - val_accuracy: 0.7384\n",
      "Epoch 44/50\n",
      "563/563 [==============================] - 1s 2ms/step - loss: 0.5376 - accuracy: 0.7353 - val_loss: 0.5610 - val_accuracy: 0.7379\n",
      "Epoch 45/50\n",
      "563/563 [==============================] - 1s 2ms/step - loss: 0.5376 - accuracy: 0.7360 - val_loss: 0.5647 - val_accuracy: 0.7372\n",
      "Epoch 46/50\n",
      "563/563 [==============================] - 1s 2ms/step - loss: 0.5374 - accuracy: 0.7358 - val_loss: 0.5619 - val_accuracy: 0.7385\n",
      "Epoch 47/50\n",
      "563/563 [==============================] - 1s 2ms/step - loss: 0.5371 - accuracy: 0.7352 - val_loss: 0.5618 - val_accuracy: 0.7366\n",
      "Epoch 48/50\n",
      "563/563 [==============================] - 1s 2ms/step - loss: 0.5371 - accuracy: 0.7348 - val_loss: 0.5605 - val_accuracy: 0.7396\n",
      "Epoch 49/50\n",
      "563/563 [==============================] - 1s 2ms/step - loss: 0.5368 - accuracy: 0.7363 - val_loss: 0.5600 - val_accuracy: 0.7402\n",
      "Epoch 50/50\n",
      "563/563 [==============================] - 1s 2ms/step - loss: 0.5367 - accuracy: 0.7359 - val_loss: 0.5658 - val_accuracy: 0.7356\n"
     ]
    }
   ],
   "source": [
    "# Fit the model using 50 epochs and the training data\n",
    "fit_model_A1 = nn_Alternate1.fit(X_train_scaled_A1, y_train_A1, validation_split=0.3, epochs=50)"
   ]
  },
  {
   "cell_type": "code",
   "execution_count": null,
   "metadata": {},
   "outputs": [],
   "source": []
  },
  {
   "cell_type": "code",
   "execution_count": null,
   "metadata": {},
   "outputs": [],
   "source": []
  },
  {
   "cell_type": "markdown",
   "metadata": {},
   "source": [
    "#### Alternative Model 2"
   ]
  },
  {
   "cell_type": "code",
   "execution_count": 38,
   "metadata": {},
   "outputs": [],
   "source": [
    "## Same X and y as alternative model, but we will be dropping"
   ]
  },
  {
   "cell_type": "code",
   "execution_count": 39,
   "metadata": {},
   "outputs": [
    {
     "data": {
      "text/plain": [
       "115"
      ]
     },
     "execution_count": 39,
     "metadata": {},
     "output_type": "execute_result"
    }
   ],
   "source": [
    "# Define the the number of inputs (features) to the model\n",
    "number_input_features_Alternate2 = len(X_train_A1.iloc[0])\n",
    "\n",
    "# Review the number of features\n",
    "number_input_features_Alternate2"
   ]
  },
  {
   "cell_type": "code",
   "execution_count": null,
   "metadata": {},
   "outputs": [],
   "source": []
  },
  {
   "cell_type": "code",
   "execution_count": null,
   "metadata": {},
   "outputs": [],
   "source": []
  },
  {
   "cell_type": "code",
   "execution_count": 40,
   "metadata": {},
   "outputs": [
    {
     "data": {
      "text/plain": [
       "20"
      ]
     },
     "execution_count": 40,
     "metadata": {},
     "output_type": "execute_result"
    }
   ],
   "source": [
    "# Define the number of hidden nodes for the first hidden layer\n",
    "hidden_nodes_layer1_Alternate2 = 20\n",
    "\n",
    "# Review the number of hidden nodes in the first layer\n",
    "hidden_nodes_layer1_Alternate2"
   ]
  },
  {
   "cell_type": "code",
   "execution_count": null,
   "metadata": {},
   "outputs": [],
   "source": []
  },
  {
   "cell_type": "code",
   "execution_count": null,
   "metadata": {},
   "outputs": [],
   "source": []
  },
  {
   "cell_type": "code",
   "execution_count": null,
   "metadata": {},
   "outputs": [],
   "source": []
  },
  {
   "cell_type": "code",
   "execution_count": 41,
   "metadata": {},
   "outputs": [],
   "source": [
    "# Create the Sequential model instance\n",
    "nn_Alternate2 =  Sequential()"
   ]
  },
  {
   "cell_type": "code",
   "execution_count": null,
   "metadata": {},
   "outputs": [],
   "source": []
  },
  {
   "cell_type": "code",
   "execution_count": null,
   "metadata": {},
   "outputs": [],
   "source": []
  },
  {
   "cell_type": "code",
   "execution_count": null,
   "metadata": {},
   "outputs": [],
   "source": []
  },
  {
   "cell_type": "code",
   "execution_count": 42,
   "metadata": {},
   "outputs": [
    {
     "name": "stdout",
     "output_type": "stream",
     "text": [
      "Model: \"sequential_2\"\n",
      "_________________________________________________________________\n",
      " Layer (type)                Output Shape              Param #   \n",
      "=================================================================\n",
      " dense_6 (Dense)             (None, 20)                2320      \n",
      "                                                                 \n",
      " dropout (Dropout)           (None, 20)                0         \n",
      "                                                                 \n",
      " dense_7 (Dense)             (None, 5)                 105       \n",
      "                                                                 \n",
      " dense_8 (Dense)             (None, 1)                 6         \n",
      "                                                                 \n",
      "=================================================================\n",
      "Total params: 2,431\n",
      "Trainable params: 2,431\n",
      "Non-trainable params: 0\n",
      "_________________________________________________________________\n"
     ]
    }
   ],
   "source": [
    "# First hidden layer\n",
    "nn_Alternate2.add(\n",
    "    Dense(units=hidden_nodes_layer1_Alternate2, input_dim=number_input_features_Alternate2, activation=\"relu\")\n",
    ")\n",
    "# Dropout layer\n",
    "nn_Alternate2.add(Dropout(.2,input_shape=(10,)))\n",
    "\n",
    "# Regularization layer\n",
    "nn_Alternate2.add(Dense(5, activation='relu', kernel_regularizer=l2(0.02), bias_regularizer=l2(0.02)))\n",
    "\n",
    "# Output layer\n",
    "nn_Alternate2.add(Dense(units=1, activation=\"sigmoid\"))\n",
    "\n",
    "# Check the structure of the model\n",
    "nn_Alternate2.summary()"
   ]
  },
  {
   "cell_type": "code",
   "execution_count": null,
   "metadata": {},
   "outputs": [],
   "source": []
  },
  {
   "cell_type": "code",
   "execution_count": null,
   "metadata": {},
   "outputs": [],
   "source": []
  },
  {
   "cell_type": "code",
   "execution_count": null,
   "metadata": {},
   "outputs": [],
   "source": []
  },
  {
   "cell_type": "code",
   "execution_count": null,
   "metadata": {},
   "outputs": [],
   "source": []
  },
  {
   "cell_type": "code",
   "execution_count": null,
   "metadata": {},
   "outputs": [],
   "source": []
  },
  {
   "cell_type": "code",
   "execution_count": null,
   "metadata": {},
   "outputs": [],
   "source": []
  },
  {
   "cell_type": "code",
   "execution_count": null,
   "metadata": {},
   "outputs": [],
   "source": []
  },
  {
   "cell_type": "code",
   "execution_count": null,
   "metadata": {},
   "outputs": [],
   "source": []
  },
  {
   "cell_type": "code",
   "execution_count": 43,
   "metadata": {},
   "outputs": [],
   "source": [
    "# Compile the model\n",
    "nn_Alternate2.compile(loss=\"binary_crossentropy\", optimizer=\"adam\", metrics=[\"accuracy\"])"
   ]
  },
  {
   "cell_type": "code",
   "execution_count": null,
   "metadata": {},
   "outputs": [],
   "source": []
  },
  {
   "cell_type": "code",
   "execution_count": null,
   "metadata": {},
   "outputs": [],
   "source": []
  },
  {
   "cell_type": "code",
   "execution_count": null,
   "metadata": {},
   "outputs": [],
   "source": []
  },
  {
   "cell_type": "code",
   "execution_count": null,
   "metadata": {},
   "outputs": [],
   "source": []
  },
  {
   "cell_type": "code",
   "execution_count": null,
   "metadata": {},
   "outputs": [],
   "source": []
  },
  {
   "cell_type": "code",
   "execution_count": 44,
   "metadata": {},
   "outputs": [
    {
     "name": "stdout",
     "output_type": "stream",
     "text": [
      "Epoch 1/50\n",
      "563/563 [==============================] - 2s 3ms/step - loss: 0.7319 - accuracy: 0.6696 - val_loss: 0.6231 - val_accuracy: 0.7278\n",
      "Epoch 2/50\n",
      "563/563 [==============================] - 1s 2ms/step - loss: 0.6142 - accuracy: 0.7123 - val_loss: 0.5772 - val_accuracy: 0.7374\n",
      "Epoch 3/50\n",
      "563/563 [==============================] - 1s 2ms/step - loss: 0.5877 - accuracy: 0.7199 - val_loss: 0.5670 - val_accuracy: 0.7378\n",
      "Epoch 4/50\n",
      "563/563 [==============================] - 1s 2ms/step - loss: 0.5761 - accuracy: 0.7258 - val_loss: 0.5620 - val_accuracy: 0.7371\n",
      "Epoch 5/50\n",
      "563/563 [==============================] - 1s 2ms/step - loss: 0.5738 - accuracy: 0.7235 - val_loss: 0.5598 - val_accuracy: 0.7385\n",
      "Epoch 6/50\n",
      "563/563 [==============================] - 1s 2ms/step - loss: 0.5701 - accuracy: 0.7259 - val_loss: 0.5620 - val_accuracy: 0.7349\n",
      "Epoch 7/50\n",
      "563/563 [==============================] - 1s 2ms/step - loss: 0.5672 - accuracy: 0.7245 - val_loss: 0.5591 - val_accuracy: 0.7353\n",
      "Epoch 8/50\n",
      "563/563 [==============================] - 1s 2ms/step - loss: 0.5670 - accuracy: 0.7266 - val_loss: 0.5595 - val_accuracy: 0.7372\n",
      "Epoch 9/50\n",
      "563/563 [==============================] - 1s 2ms/step - loss: 0.5643 - accuracy: 0.7273 - val_loss: 0.5607 - val_accuracy: 0.7354\n",
      "Epoch 10/50\n",
      "563/563 [==============================] - 1s 2ms/step - loss: 0.5652 - accuracy: 0.7263 - val_loss: 0.5571 - val_accuracy: 0.7358\n",
      "Epoch 11/50\n",
      "563/563 [==============================] - 1s 2ms/step - loss: 0.5636 - accuracy: 0.7259 - val_loss: 0.5571 - val_accuracy: 0.7359\n",
      "Epoch 12/50\n",
      "563/563 [==============================] - 1s 2ms/step - loss: 0.5615 - accuracy: 0.7259 - val_loss: 0.5574 - val_accuracy: 0.7372\n",
      "Epoch 13/50\n",
      "563/563 [==============================] - 1s 2ms/step - loss: 0.5618 - accuracy: 0.7274 - val_loss: 0.5564 - val_accuracy: 0.7370\n",
      "Epoch 14/50\n",
      "563/563 [==============================] - 1s 2ms/step - loss: 0.5600 - accuracy: 0.7292 - val_loss: 0.5579 - val_accuracy: 0.7379\n",
      "Epoch 15/50\n",
      "563/563 [==============================] - 1s 2ms/step - loss: 0.5603 - accuracy: 0.7284 - val_loss: 0.5583 - val_accuracy: 0.7357\n",
      "Epoch 16/50\n",
      "563/563 [==============================] - 1s 2ms/step - loss: 0.5616 - accuracy: 0.7255 - val_loss: 0.5579 - val_accuracy: 0.7368\n",
      "Epoch 17/50\n",
      "563/563 [==============================] - 1s 2ms/step - loss: 0.5586 - accuracy: 0.7279 - val_loss: 0.5572 - val_accuracy: 0.7379\n",
      "Epoch 18/50\n",
      "563/563 [==============================] - 1s 2ms/step - loss: 0.5585 - accuracy: 0.7254 - val_loss: 0.5580 - val_accuracy: 0.7385\n",
      "Epoch 19/50\n",
      "563/563 [==============================] - 1s 2ms/step - loss: 0.5583 - accuracy: 0.7283 - val_loss: 0.5577 - val_accuracy: 0.7375\n",
      "Epoch 20/50\n",
      "563/563 [==============================] - 1s 2ms/step - loss: 0.5598 - accuracy: 0.7268 - val_loss: 0.5616 - val_accuracy: 0.7365\n",
      "Epoch 21/50\n",
      "563/563 [==============================] - 1s 2ms/step - loss: 0.5555 - accuracy: 0.7284 - val_loss: 0.5619 - val_accuracy: 0.7374\n",
      "Epoch 22/50\n",
      "563/563 [==============================] - 1s 2ms/step - loss: 0.5573 - accuracy: 0.7280 - val_loss: 0.5645 - val_accuracy: 0.7376\n",
      "Epoch 23/50\n",
      "563/563 [==============================] - 1s 2ms/step - loss: 0.5574 - accuracy: 0.7275 - val_loss: 0.5623 - val_accuracy: 0.7394\n",
      "Epoch 24/50\n",
      "563/563 [==============================] - 1s 2ms/step - loss: 0.5561 - accuracy: 0.7261 - val_loss: 0.5609 - val_accuracy: 0.7380\n",
      "Epoch 25/50\n",
      "563/563 [==============================] - 1s 2ms/step - loss: 0.5572 - accuracy: 0.7281 - val_loss: 0.5630 - val_accuracy: 0.7376\n",
      "Epoch 26/50\n",
      "563/563 [==============================] - 1s 2ms/step - loss: 0.5569 - accuracy: 0.7295 - val_loss: 0.5602 - val_accuracy: 0.7379\n",
      "Epoch 27/50\n",
      "563/563 [==============================] - 1s 2ms/step - loss: 0.5570 - accuracy: 0.7270 - val_loss: 0.5626 - val_accuracy: 0.7374\n",
      "Epoch 28/50\n",
      "563/563 [==============================] - 1s 2ms/step - loss: 0.5547 - accuracy: 0.7279 - val_loss: 0.5640 - val_accuracy: 0.7384\n",
      "Epoch 29/50\n",
      "563/563 [==============================] - 1s 2ms/step - loss: 0.5551 - accuracy: 0.7283 - val_loss: 0.5641 - val_accuracy: 0.7375\n",
      "Epoch 30/50\n",
      "563/563 [==============================] - 1s 2ms/step - loss: 0.5566 - accuracy: 0.7291 - val_loss: 0.5635 - val_accuracy: 0.7378\n",
      "Epoch 31/50\n",
      "563/563 [==============================] - 1s 2ms/step - loss: 0.5548 - accuracy: 0.7282 - val_loss: 0.5689 - val_accuracy: 0.7366\n",
      "Epoch 32/50\n",
      "563/563 [==============================] - 1s 2ms/step - loss: 0.5558 - accuracy: 0.7284 - val_loss: 0.5699 - val_accuracy: 0.7362\n",
      "Epoch 33/50\n",
      "563/563 [==============================] - 1s 2ms/step - loss: 0.5540 - accuracy: 0.7298 - val_loss: 0.5749 - val_accuracy: 0.7353\n",
      "Epoch 34/50\n",
      "563/563 [==============================] - 1s 2ms/step - loss: 0.5542 - accuracy: 0.7311 - val_loss: 0.5698 - val_accuracy: 0.7367\n",
      "Epoch 35/50\n",
      "563/563 [==============================] - 1s 2ms/step - loss: 0.5562 - accuracy: 0.7272 - val_loss: 0.5680 - val_accuracy: 0.7383\n",
      "Epoch 36/50\n",
      "563/563 [==============================] - 1s 2ms/step - loss: 0.5542 - accuracy: 0.7290 - val_loss: 0.5665 - val_accuracy: 0.7385\n",
      "Epoch 37/50\n",
      "563/563 [==============================] - 1s 2ms/step - loss: 0.5550 - accuracy: 0.7278 - val_loss: 0.5669 - val_accuracy: 0.7379\n",
      "Epoch 38/50\n",
      "563/563 [==============================] - 1s 2ms/step - loss: 0.5554 - accuracy: 0.7274 - val_loss: 0.5656 - val_accuracy: 0.7391\n",
      "Epoch 39/50\n",
      "563/563 [==============================] - 1s 2ms/step - loss: 0.5549 - accuracy: 0.7287 - val_loss: 0.5632 - val_accuracy: 0.7383\n",
      "Epoch 40/50\n",
      "563/563 [==============================] - 1s 2ms/step - loss: 0.5539 - accuracy: 0.7315 - val_loss: 0.5637 - val_accuracy: 0.7388\n",
      "Epoch 41/50\n",
      "563/563 [==============================] - 1s 2ms/step - loss: 0.5535 - accuracy: 0.7283 - val_loss: 0.5667 - val_accuracy: 0.7378\n",
      "Epoch 42/50\n",
      "563/563 [==============================] - 1s 2ms/step - loss: 0.5551 - accuracy: 0.7307 - val_loss: 0.5657 - val_accuracy: 0.7380\n",
      "Epoch 43/50\n",
      "563/563 [==============================] - 1s 2ms/step - loss: 0.5534 - accuracy: 0.7291 - val_loss: 0.5639 - val_accuracy: 0.7387\n",
      "Epoch 44/50\n",
      "563/563 [==============================] - 1s 2ms/step - loss: 0.5524 - accuracy: 0.7300 - val_loss: 0.5679 - val_accuracy: 0.7388\n",
      "Epoch 45/50\n",
      "563/563 [==============================] - 1s 2ms/step - loss: 0.5534 - accuracy: 0.7308 - val_loss: 0.5645 - val_accuracy: 0.7380\n",
      "Epoch 46/50\n",
      "563/563 [==============================] - 1s 2ms/step - loss: 0.5549 - accuracy: 0.7271 - val_loss: 0.5629 - val_accuracy: 0.7379\n",
      "Epoch 47/50\n",
      "563/563 [==============================] - 1s 2ms/step - loss: 0.5545 - accuracy: 0.7296 - val_loss: 0.5653 - val_accuracy: 0.7393\n",
      "Epoch 48/50\n",
      "563/563 [==============================] - 1s 2ms/step - loss: 0.5543 - accuracy: 0.7303 - val_loss: 0.5732 - val_accuracy: 0.7376\n",
      "Epoch 49/50\n",
      "563/563 [==============================] - 1s 2ms/step - loss: 0.5540 - accuracy: 0.7285 - val_loss: 0.5698 - val_accuracy: 0.7391\n",
      "Epoch 50/50\n",
      "563/563 [==============================] - 1s 2ms/step - loss: 0.5549 - accuracy: 0.7290 - val_loss: 0.5675 - val_accuracy: 0.7391\n"
     ]
    }
   ],
   "source": [
    "# Fit the model\n",
    "model_A2 = nn_Alternate2.fit(X_train_scaled_A1, y_train_A1, validation_split=0.3, epochs=50)"
   ]
  },
  {
   "cell_type": "code",
   "execution_count": null,
   "metadata": {},
   "outputs": [],
   "source": []
  },
  {
   "cell_type": "code",
   "execution_count": null,
   "metadata": {},
   "outputs": [],
   "source": []
  },
  {
   "cell_type": "code",
   "execution_count": null,
   "metadata": {},
   "outputs": [],
   "source": []
  },
  {
   "cell_type": "code",
   "execution_count": null,
   "metadata": {},
   "outputs": [],
   "source": []
  },
  {
   "cell_type": "markdown",
   "metadata": {},
   "source": [
    "### Alternative Model 3"
   ]
  },
  {
   "cell_type": "code",
   "execution_count": 45,
   "metadata": {},
   "outputs": [
    {
     "data": {
      "text/plain": [
       "115"
      ]
     },
     "execution_count": 45,
     "metadata": {},
     "output_type": "execute_result"
    }
   ],
   "source": [
    "## Two layers with dropout and regularizer for each\n",
    "\n",
    "# Define the the number of inputs (features) to the model\n",
    "number_input_features_Alternate3 = len(X_train_A1.iloc[0])\n",
    "\n",
    "# Review the number of features\n",
    "number_input_features_Alternate3 "
   ]
  },
  {
   "cell_type": "code",
   "execution_count": null,
   "metadata": {},
   "outputs": [],
   "source": []
  },
  {
   "cell_type": "code",
   "execution_count": null,
   "metadata": {},
   "outputs": [],
   "source": []
  },
  {
   "cell_type": "code",
   "execution_count": null,
   "metadata": {},
   "outputs": [],
   "source": []
  },
  {
   "cell_type": "code",
   "execution_count": 46,
   "metadata": {},
   "outputs": [],
   "source": [
    "# Define the number of hidden nodes for the first hidden layer\n",
    "hidden_nodes_layer1_Alternate3 = 35\n",
    "hidden_nodes_layer2_Alternate3 = 35"
   ]
  },
  {
   "cell_type": "code",
   "execution_count": null,
   "metadata": {},
   "outputs": [],
   "source": []
  },
  {
   "cell_type": "code",
   "execution_count": null,
   "metadata": {},
   "outputs": [],
   "source": []
  },
  {
   "cell_type": "code",
   "execution_count": null,
   "metadata": {},
   "outputs": [],
   "source": []
  },
  {
   "cell_type": "code",
   "execution_count": 47,
   "metadata": {},
   "outputs": [],
   "source": [
    "# Create the Sequential model instance\n",
    "nn_Alternate3 =  Sequential()"
   ]
  },
  {
   "cell_type": "code",
   "execution_count": null,
   "metadata": {},
   "outputs": [],
   "source": []
  },
  {
   "cell_type": "code",
   "execution_count": null,
   "metadata": {},
   "outputs": [],
   "source": []
  },
  {
   "cell_type": "code",
   "execution_count": null,
   "metadata": {},
   "outputs": [],
   "source": []
  },
  {
   "cell_type": "code",
   "execution_count": 48,
   "metadata": {},
   "outputs": [
    {
     "name": "stdout",
     "output_type": "stream",
     "text": [
      "Model: \"sequential_3\"\n",
      "_________________________________________________________________\n",
      " Layer (type)                Output Shape              Param #   \n",
      "=================================================================\n",
      " dense_9 (Dense)             (None, 35)                4060      \n",
      "                                                                 \n",
      " dropout_1 (Dropout)         (None, 35)                0         \n",
      "                                                                 \n",
      " dense_10 (Dense)            (None, 5)                 180       \n",
      "                                                                 \n",
      " dense_11 (Dense)            (None, 35)                210       \n",
      "                                                                 \n",
      " dropout_2 (Dropout)         (None, 35)                0         \n",
      "                                                                 \n",
      " dense_12 (Dense)            (None, 5)                 180       \n",
      "                                                                 \n",
      " dense_13 (Dense)            (None, 1)                 6         \n",
      "                                                                 \n",
      "=================================================================\n",
      "Total params: 4,636\n",
      "Trainable params: 4,636\n",
      "Non-trainable params: 0\n",
      "_________________________________________________________________\n"
     ]
    }
   ],
   "source": [
    "# First hidden layer\n",
    "nn_Alternate3.add(\n",
    "    Dense(units=hidden_nodes_layer1_Alternate3, input_dim=number_input_features_Alternate3, activation=\"relu\")\n",
    ")\n",
    "nn_Alternate3.add(Dropout(.2,input_shape=(10,)))\n",
    "nn_Alternate3.add(Dense(5, activation='relu', kernel_regularizer=l2(0.01), bias_regularizer=l2(0.01)))\n",
    "nn_Alternate3.add(\n",
    "    Dense(units=hidden_nodes_layer2_Alternate3, input_dim=hidden_nodes_layer1_Alternate3 * .8, activation=\"relu\")\n",
    ")\n",
    "nn_Alternate3.add(Dropout(.2,input_shape=(10,)))\n",
    "nn_Alternate3.add(Dense(5, activation='relu', kernel_regularizer=l2(0.01), bias_regularizer=l2(0.01)))\n",
    "\n",
    "# Output layer\n",
    "nn_Alternate3.add(Dense(units=1, activation=\"sigmoid\"))\n",
    "\n",
    "# Check the structure of the model\n",
    "nn_Alternate3.summary()"
   ]
  },
  {
   "cell_type": "code",
   "execution_count": null,
   "metadata": {},
   "outputs": [],
   "source": []
  },
  {
   "cell_type": "code",
   "execution_count": null,
   "metadata": {},
   "outputs": [],
   "source": []
  },
  {
   "cell_type": "code",
   "execution_count": 49,
   "metadata": {},
   "outputs": [],
   "source": [
    "# Compile the model\n",
    "nn_Alternate3.compile(loss=\"binary_crossentropy\", optimizer=\"adam\", metrics=[\"accuracy\"])"
   ]
  },
  {
   "cell_type": "code",
   "execution_count": null,
   "metadata": {},
   "outputs": [],
   "source": []
  },
  {
   "cell_type": "code",
   "execution_count": 50,
   "metadata": {},
   "outputs": [
    {
     "name": "stdout",
     "output_type": "stream",
     "text": [
      "Epoch 1/60\n",
      "563/563 [==============================] - 3s 3ms/step - loss: 0.6870 - accuracy: 0.6806 - val_loss: 0.5919 - val_accuracy: 0.7318\n",
      "Epoch 2/60\n",
      "563/563 [==============================] - 1s 2ms/step - loss: 0.5936 - accuracy: 0.7224 - val_loss: 0.5689 - val_accuracy: 0.7367\n",
      "Epoch 3/60\n",
      "563/563 [==============================] - 1s 2ms/step - loss: 0.5804 - accuracy: 0.7243 - val_loss: 0.5681 - val_accuracy: 0.7348\n",
      "Epoch 4/60\n",
      "563/563 [==============================] - 1s 2ms/step - loss: 0.5729 - accuracy: 0.7252 - val_loss: 0.5594 - val_accuracy: 0.7381\n",
      "Epoch 5/60\n",
      "563/563 [==============================] - 1s 2ms/step - loss: 0.5680 - accuracy: 0.7258 - val_loss: 0.5628 - val_accuracy: 0.7372\n",
      "Epoch 6/60\n",
      "563/563 [==============================] - 1s 2ms/step - loss: 0.5675 - accuracy: 0.7268 - val_loss: 0.5620 - val_accuracy: 0.7372\n",
      "Epoch 7/60\n",
      "563/563 [==============================] - 1s 2ms/step - loss: 0.5659 - accuracy: 0.7263 - val_loss: 0.5601 - val_accuracy: 0.7359\n",
      "Epoch 8/60\n",
      "563/563 [==============================] - 1s 2ms/step - loss: 0.5645 - accuracy: 0.7271 - val_loss: 0.5606 - val_accuracy: 0.7383\n",
      "Epoch 9/60\n",
      "563/563 [==============================] - 1s 2ms/step - loss: 0.5619 - accuracy: 0.7276 - val_loss: 0.5629 - val_accuracy: 0.7356\n",
      "Epoch 10/60\n",
      "563/563 [==============================] - 1s 2ms/step - loss: 0.5606 - accuracy: 0.7272 - val_loss: 0.5607 - val_accuracy: 0.7371\n",
      "Epoch 11/60\n",
      "563/563 [==============================] - 1s 2ms/step - loss: 0.5610 - accuracy: 0.7278 - val_loss: 0.5570 - val_accuracy: 0.7403\n",
      "Epoch 12/60\n",
      "563/563 [==============================] - 1s 2ms/step - loss: 0.5609 - accuracy: 0.7278 - val_loss: 0.5571 - val_accuracy: 0.7396\n",
      "Epoch 13/60\n",
      "563/563 [==============================] - 1s 2ms/step - loss: 0.5594 - accuracy: 0.7282 - val_loss: 0.5629 - val_accuracy: 0.7393\n",
      "Epoch 14/60\n",
      "563/563 [==============================] - 1s 2ms/step - loss: 0.5586 - accuracy: 0.7291 - val_loss: 0.5661 - val_accuracy: 0.7340\n",
      "Epoch 15/60\n",
      "563/563 [==============================] - 1s 2ms/step - loss: 0.5585 - accuracy: 0.7279 - val_loss: 0.5652 - val_accuracy: 0.7385\n",
      "Epoch 16/60\n",
      "563/563 [==============================] - 1s 2ms/step - loss: 0.5598 - accuracy: 0.7291 - val_loss: 0.5654 - val_accuracy: 0.7387\n",
      "Epoch 17/60\n",
      "563/563 [==============================] - 1s 2ms/step - loss: 0.5576 - accuracy: 0.7300 - val_loss: 0.5626 - val_accuracy: 0.7391\n",
      "Epoch 18/60\n",
      "563/563 [==============================] - 1s 2ms/step - loss: 0.5568 - accuracy: 0.7301 - val_loss: 0.5661 - val_accuracy: 0.7383\n",
      "Epoch 19/60\n",
      "563/563 [==============================] - 1s 2ms/step - loss: 0.5572 - accuracy: 0.7299 - val_loss: 0.5643 - val_accuracy: 0.7384\n",
      "Epoch 20/60\n",
      "563/563 [==============================] - 1s 2ms/step - loss: 0.5550 - accuracy: 0.7311 - val_loss: 0.5677 - val_accuracy: 0.7381\n",
      "Epoch 21/60\n",
      "563/563 [==============================] - 1s 2ms/step - loss: 0.5561 - accuracy: 0.7319 - val_loss: 0.5654 - val_accuracy: 0.7380\n",
      "Epoch 22/60\n",
      "563/563 [==============================] - 1s 2ms/step - loss: 0.5564 - accuracy: 0.7305 - val_loss: 0.5628 - val_accuracy: 0.7368\n",
      "Epoch 23/60\n",
      "563/563 [==============================] - 1s 2ms/step - loss: 0.5573 - accuracy: 0.7297 - val_loss: 0.5676 - val_accuracy: 0.7388\n",
      "Epoch 24/60\n",
      "563/563 [==============================] - 1s 2ms/step - loss: 0.5550 - accuracy: 0.7312 - val_loss: 0.5681 - val_accuracy: 0.7361\n",
      "Epoch 25/60\n",
      "563/563 [==============================] - 1s 2ms/step - loss: 0.5546 - accuracy: 0.7323 - val_loss: 0.5653 - val_accuracy: 0.7374\n",
      "Epoch 26/60\n",
      "563/563 [==============================] - 1s 2ms/step - loss: 0.5537 - accuracy: 0.7324 - val_loss: 0.5738 - val_accuracy: 0.7356\n",
      "Epoch 27/60\n",
      "563/563 [==============================] - 1s 2ms/step - loss: 0.5547 - accuracy: 0.7306 - val_loss: 0.5753 - val_accuracy: 0.7367\n",
      "Epoch 28/60\n",
      "563/563 [==============================] - 1s 2ms/step - loss: 0.5546 - accuracy: 0.7309 - val_loss: 0.5699 - val_accuracy: 0.7384\n",
      "Epoch 29/60\n",
      "563/563 [==============================] - 1s 2ms/step - loss: 0.5537 - accuracy: 0.7305 - val_loss: 0.5663 - val_accuracy: 0.7368\n",
      "Epoch 30/60\n",
      "563/563 [==============================] - 1s 2ms/step - loss: 0.5547 - accuracy: 0.7301 - val_loss: 0.5741 - val_accuracy: 0.7379\n",
      "Epoch 31/60\n",
      "563/563 [==============================] - 1s 2ms/step - loss: 0.5533 - accuracy: 0.7319 - val_loss: 0.5707 - val_accuracy: 0.7354\n",
      "Epoch 32/60\n",
      "563/563 [==============================] - 1s 2ms/step - loss: 0.5527 - accuracy: 0.7316 - val_loss: 0.5716 - val_accuracy: 0.7372\n",
      "Epoch 33/60\n",
      "563/563 [==============================] - 1s 2ms/step - loss: 0.5538 - accuracy: 0.7305 - val_loss: 0.5883 - val_accuracy: 0.7379\n",
      "Epoch 34/60\n",
      "563/563 [==============================] - 1s 2ms/step - loss: 0.5536 - accuracy: 0.7314 - val_loss: 0.5685 - val_accuracy: 0.7380\n",
      "Epoch 35/60\n",
      "563/563 [==============================] - 1s 2ms/step - loss: 0.5518 - accuracy: 0.7326 - val_loss: 0.5867 - val_accuracy: 0.7376\n",
      "Epoch 36/60\n",
      "563/563 [==============================] - 1s 2ms/step - loss: 0.5523 - accuracy: 0.7318 - val_loss: 0.5788 - val_accuracy: 0.7378\n",
      "Epoch 37/60\n",
      "563/563 [==============================] - 1s 2ms/step - loss: 0.5526 - accuracy: 0.7309 - val_loss: 0.5702 - val_accuracy: 0.7370\n",
      "Epoch 38/60\n",
      "563/563 [==============================] - 1s 2ms/step - loss: 0.5532 - accuracy: 0.7310 - val_loss: 0.5734 - val_accuracy: 0.7370\n",
      "Epoch 39/60\n",
      "563/563 [==============================] - 1s 2ms/step - loss: 0.5565 - accuracy: 0.7308 - val_loss: 0.5719 - val_accuracy: 0.7357\n",
      "Epoch 40/60\n",
      "563/563 [==============================] - 1s 2ms/step - loss: 0.5517 - accuracy: 0.7329 - val_loss: 0.5772 - val_accuracy: 0.7371\n",
      "Epoch 41/60\n",
      "563/563 [==============================] - 1s 2ms/step - loss: 0.5518 - accuracy: 0.7325 - val_loss: 0.5720 - val_accuracy: 0.7376\n",
      "Epoch 42/60\n",
      "563/563 [==============================] - 1s 2ms/step - loss: 0.5517 - accuracy: 0.7327 - val_loss: 0.5691 - val_accuracy: 0.7383\n",
      "Epoch 43/60\n",
      "563/563 [==============================] - 1s 2ms/step - loss: 0.5523 - accuracy: 0.7321 - val_loss: 0.5731 - val_accuracy: 0.7378\n",
      "Epoch 44/60\n",
      "563/563 [==============================] - 1s 2ms/step - loss: 0.5522 - accuracy: 0.7326 - val_loss: 0.5915 - val_accuracy: 0.7361\n",
      "Epoch 45/60\n",
      "563/563 [==============================] - 1s 2ms/step - loss: 0.5519 - accuracy: 0.7317 - val_loss: 0.5785 - val_accuracy: 0.7384\n",
      "Epoch 46/60\n",
      "563/563 [==============================] - 1s 2ms/step - loss: 0.5524 - accuracy: 0.7326 - val_loss: 0.5916 - val_accuracy: 0.7379\n",
      "Epoch 47/60\n",
      "563/563 [==============================] - 1s 2ms/step - loss: 0.5510 - accuracy: 0.7334 - val_loss: 0.5872 - val_accuracy: 0.7367\n",
      "Epoch 48/60\n",
      "563/563 [==============================] - 1s 2ms/step - loss: 0.5516 - accuracy: 0.7322 - val_loss: 0.5816 - val_accuracy: 0.7372\n",
      "Epoch 49/60\n",
      "563/563 [==============================] - 1s 2ms/step - loss: 0.5507 - accuracy: 0.7345 - val_loss: 0.5834 - val_accuracy: 0.7353\n",
      "Epoch 50/60\n",
      "563/563 [==============================] - 1s 2ms/step - loss: 0.5520 - accuracy: 0.7300 - val_loss: 0.5891 - val_accuracy: 0.7392\n",
      "Epoch 51/60\n",
      "563/563 [==============================] - 1s 2ms/step - loss: 0.5523 - accuracy: 0.7320 - val_loss: 0.5795 - val_accuracy: 0.7383\n",
      "Epoch 52/60\n",
      "563/563 [==============================] - 1s 2ms/step - loss: 0.5514 - accuracy: 0.7329 - val_loss: 0.5845 - val_accuracy: 0.7368\n",
      "Epoch 53/60\n",
      "563/563 [==============================] - 1s 2ms/step - loss: 0.5509 - accuracy: 0.7328 - val_loss: 0.5889 - val_accuracy: 0.7372\n",
      "Epoch 54/60\n",
      "563/563 [==============================] - 1s 2ms/step - loss: 0.5502 - accuracy: 0.7329 - val_loss: 0.5860 - val_accuracy: 0.7375\n",
      "Epoch 55/60\n",
      "563/563 [==============================] - 1s 2ms/step - loss: 0.5526 - accuracy: 0.7331 - val_loss: 0.5790 - val_accuracy: 0.7362\n",
      "Epoch 56/60\n",
      "563/563 [==============================] - 1s 2ms/step - loss: 0.5512 - accuracy: 0.7326 - val_loss: 0.5784 - val_accuracy: 0.7378\n",
      "Epoch 57/60\n",
      "563/563 [==============================] - 1s 2ms/step - loss: 0.5519 - accuracy: 0.7326 - val_loss: 0.5729 - val_accuracy: 0.7381\n",
      "Epoch 58/60\n",
      "563/563 [==============================] - 1s 2ms/step - loss: 0.5510 - accuracy: 0.7325 - val_loss: 0.5803 - val_accuracy: 0.7371\n",
      "Epoch 59/60\n",
      "563/563 [==============================] - 1s 2ms/step - loss: 0.5500 - accuracy: 0.7331 - val_loss: 0.5779 - val_accuracy: 0.7352\n",
      "Epoch 60/60\n",
      "563/563 [==============================] - 1s 2ms/step - loss: 0.5492 - accuracy: 0.7343 - val_loss: 0.5972 - val_accuracy: 0.7385\n"
     ]
    }
   ],
   "source": [
    "# Fit the model\n",
    "model_A3 = nn_Alternate3.fit(X_train_scaled_A1, y_train_A1, validation_split=0.3, epochs=60)"
   ]
  },
  {
   "cell_type": "code",
   "execution_count": null,
   "metadata": {},
   "outputs": [],
   "source": []
  },
  {
   "cell_type": "code",
   "execution_count": null,
   "metadata": {},
   "outputs": [],
   "source": []
  },
  {
   "cell_type": "markdown",
   "metadata": {},
   "source": [
    "### Step 2: After finishing your models, display the accuracy scores achieved by each model, and compare the results."
   ]
  },
  {
   "cell_type": "code",
   "execution_count": 51,
   "metadata": {},
   "outputs": [
    {
     "name": "stdout",
     "output_type": "stream",
     "text": [
      "Original Model Results\n",
      "268/268 - 0s - loss: 0.5590 - accuracy: 0.7314 - 265ms/epoch - 989us/step\n",
      "Loss: 0.5590128302574158, Accuracy: 0.7314285635948181\n"
     ]
    }
   ],
   "source": [
    "print(\"Original Model Results\")\n",
    "\n",
    "# Evaluate the model loss and accuracy metrics using the evaluate method and the test data\n",
    "model_loss, model_accuracy = nn.evaluate(X_test_scaled, y_test, verbose=2)\n",
    "\n",
    "# Display the model loss and accuracy results\n",
    "print(f\"Loss: {model_loss}, Accuracy: {model_accuracy}\")"
   ]
  },
  {
   "cell_type": "code",
   "execution_count": null,
   "metadata": {},
   "outputs": [],
   "source": []
  },
  {
   "cell_type": "code",
   "execution_count": 52,
   "metadata": {},
   "outputs": [
    {
     "name": "stdout",
     "output_type": "stream",
     "text": [
      "Alternative Model 1 Results\n",
      "268/268 - 0s - loss: 0.5627 - accuracy: 0.7256 - 267ms/epoch - 996us/step\n",
      "Loss: 0.5627041459083557, Accuracy: 0.7255976796150208\n"
     ]
    }
   ],
   "source": [
    "print(\"Alternative Model 1 Results\")\n",
    "\n",
    "# Evaluate the model loss and accuracy metrics using the evaluate method and the test data\n",
    "model_loss, model_accuracy = nn_Alternate1.evaluate(X_test_scaled_A1, y_test_A1, verbose=2)\n",
    "\n",
    "# Display the model loss and accuracy results\n",
    "print(f\"Loss: {model_loss}, Accuracy: {model_accuracy}\")"
   ]
  },
  {
   "cell_type": "code",
   "execution_count": null,
   "metadata": {},
   "outputs": [],
   "source": []
  },
  {
   "cell_type": "code",
   "execution_count": null,
   "metadata": {},
   "outputs": [],
   "source": []
  },
  {
   "cell_type": "code",
   "execution_count": 53,
   "metadata": {},
   "outputs": [
    {
     "name": "stdout",
     "output_type": "stream",
     "text": [
      "Alternative Model 2 Results\n",
      "268/268 - 0s - loss: 0.5671 - accuracy: 0.7321 - 250ms/epoch - 933us/step\n",
      "Loss: 0.567121684551239, Accuracy: 0.7321282625198364\n"
     ]
    }
   ],
   "source": [
    "print(\"Alternative Model 2 Results\")\n",
    "\n",
    "# Evaluate the model loss and accuracy metrics using the evaluate method and the test data\n",
    "model_loss, model_accuracy = nn_Alternate2.evaluate(X_test_scaled_A1, y_test_A1, verbose=2)\n",
    "\n",
    "# Display the model loss and accuracy results\n",
    "print(f\"Loss: {model_loss}, Accuracy: {model_accuracy}\")"
   ]
  },
  {
   "cell_type": "code",
   "execution_count": null,
   "metadata": {},
   "outputs": [],
   "source": []
  },
  {
   "cell_type": "code",
   "execution_count": 54,
   "metadata": {},
   "outputs": [
    {
     "name": "stdout",
     "output_type": "stream",
     "text": [
      "Alternative Model 3 Results\n",
      "268/268 - 0s - loss: 0.5653 - accuracy: 0.7328 - 267ms/epoch - 995us/step\n",
      "Loss: 0.5652913451194763, Accuracy: 0.7328279614448547\n"
     ]
    }
   ],
   "source": [
    "print(\"Alternative Model 3 Results\")\n",
    "\n",
    "# Evaluate the model loss and accuracy metrics using the evaluate method and the test data\n",
    "model_loss, model_accuracy = nn_Alternate3.evaluate(X_test_scaled_A1, y_test_A1, verbose=2)\n",
    "\n",
    "# Display the model loss and accuracy results\n",
    "print(f\"Loss: {model_loss}, Accuracy: {model_accuracy}\")"
   ]
  },
  {
   "cell_type": "code",
   "execution_count": null,
   "metadata": {},
   "outputs": [],
   "source": []
  },
  {
   "cell_type": "markdown",
   "metadata": {},
   "source": [
    "### Step 3: Save each of your alternative models as an HDF5 file.\n"
   ]
  },
  {
   "cell_type": "code",
   "execution_count": 55,
   "metadata": {},
   "outputs": [],
   "source": [
    "# Set the file path for the first alternative model\n",
    "file_path = Path(\"Resources/AlphabetSoup_Alternative model_1.h5\")\n",
    "\n",
    "# Export your model to a HDF5 file\n",
    "nn_Alternate1.save(file_path)"
   ]
  },
  {
   "cell_type": "code",
   "execution_count": null,
   "metadata": {},
   "outputs": [],
   "source": []
  },
  {
   "cell_type": "code",
   "execution_count": null,
   "metadata": {},
   "outputs": [],
   "source": []
  },
  {
   "cell_type": "code",
   "execution_count": 56,
   "metadata": {},
   "outputs": [],
   "source": [
    "# Set the file path for the second alternative model\n",
    "file_path = Path(\"Resources/AlphabetSoup_Alternative model_2.h5\")\n",
    "\n",
    "# Export your model to a HDF5 file\n",
    "nn_Alternate2.save(file_path)"
   ]
  },
  {
   "cell_type": "code",
   "execution_count": 57,
   "metadata": {},
   "outputs": [],
   "source": [
    "# Set the file path for the second alternative model\n",
    "file_path = Path(\"Resources/AlphabetSoup_Alternative model_3.h5\")\n",
    "\n",
    "# Export your model to a HDF5 file\n",
    "nn_Alternate3.save(file_path)"
   ]
  },
  {
   "cell_type": "code",
   "execution_count": null,
   "metadata": {},
   "outputs": [],
   "source": []
  },
  {
   "cell_type": "code",
   "execution_count": null,
   "metadata": {},
   "outputs": [],
   "source": []
  }
 ],
 "metadata": {
  "kernelspec": {
   "display_name": "Python (tf)",
   "language": "python",
   "name": "tf"
  },
  "language_info": {
   "codemirror_mode": {
    "name": "ipython",
    "version": 3
   },
   "file_extension": ".py",
   "mimetype": "text/x-python",
   "name": "python",
   "nbconvert_exporter": "python",
   "pygments_lexer": "ipython3",
   "version": "3.9.16"
  }
 },
 "nbformat": 4,
 "nbformat_minor": 4
}
